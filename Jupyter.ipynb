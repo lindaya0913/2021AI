{
 "cells": [
  {
   "cell_type": "markdown",
   "id": "magnetic-survey",
   "metadata": {},
   "source": [
    "# Jupyter Tutorial"
   ]
  },
  {
   "cell_type": "markdown",
   "id": "lesbian-bishop",
   "metadata": {},
   "source": [
    "# 不同等級的主題\n",
    "## 不同等級的主題\n",
    "### 不同等級的主題\n",
    "#### 不同等級的主題\n",
    "##### 不同等級的主題"
   ]
  },
  {
   "cell_type": "markdown",
   "id": "secret-plaintiff",
   "metadata": {},
   "source": [
    "## <font color=#FF5000>改變顏色</font>"
   ]
  },
  {
   "cell_type": "markdown",
   "id": "aging-lighting",
   "metadata": {},
   "source": [
    "## 項目符號\n",
    "1. item1\n",
    "- itema\n",
    "- itemb\n",
    "2. item2\n",
    "- itema\n",
    "- itemb\n",
    "3. item3\n",
    "\n"
   ]
  },
  {
   "cell_type": "markdown",
   "id": "increased-avenue",
   "metadata": {},
   "source": [
    "## 插入圖片\n",
    "<img src=\"./data/demo.jpg\" alt=\"demo\" style=\"zoom:50%;\" />"
   ]
  },
  {
   "cell_type": "markdown",
   "id": "graduate-japan",
   "metadata": {},
   "source": [
    "## 插入網址\n",
    "[markdown 教學](https://markdown.tw)"
   ]
  },
  {
   "cell_type": "code",
   "execution_count": null,
   "id": "black-garden",
   "metadata": {},
   "outputs": [],
   "source": []
  }
 ],
 "metadata": {
  "kernelspec": {
   "display_name": "Python 3.6.3 64-bit",
   "language": "python",
   "name": "python36364bit82a675ddeaaa48809fde3367d7b1c76e"
  },
  "language_info": {
   "codemirror_mode": {
    "name": "ipython",
    "version": 3
   },
   "file_extension": ".py",
   "mimetype": "text/x-python",
   "name": "python",
   "nbconvert_exporter": "python",
   "pygments_lexer": "ipython3",
   "version": "3.9.2"
  },
  "metadata": {
   "interpreter": {
    "hash": "aee8b7b246df8f9039afb4144a1f6fd8d2ca17a180786b69acc140d282b71a49"
   }
  }
 },
 "nbformat": 4,
 "nbformat_minor": 5
}
