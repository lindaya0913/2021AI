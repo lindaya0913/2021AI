{
 "cells": [
  {
   "cell_type": "code",
   "execution_count": 2,
   "metadata": {},
   "outputs": [],
   "source": [
    "import pandas as pd\n",
    "import numpy as np\n",
    "import matplotlib.pyplot as plt\n",
    "\n",
    "from sklearn.model_selection import train_test_split\n",
    "from sklearn.tree import DecisionTreeRegressor\n",
    "from sklearn.metrics import mean_squared_error as MSE\n",
    "from sklearn.metrics import mean_absolute_error as MAE\n",
    "from sklearn.metrics import mean_absolute_percentage_error as MAPE"
   ]
  },
  {
   "cell_type": "markdown",
   "metadata": {},
   "source": [
    "## 解題步驟：\n",
    "\n",
    "1. 讀取 x_train.npy, y_train.npy, x_test.npy, y_test.npy\n",
    "2. 將 training dataset 再切分為 training set, validation set (圖一)\n",
    "3. 先以上課的知識調整出一個不會 over-fitting 太多的決策樹模型\n",
    "4. 以 validation set 作為調整參數的基準，陸續調整其他參數 (請同學測試看看 validation 要佔多少比例，後續的調整會比較客觀)\n",
    "5. 將最終調整結果與一開始的決策樹做比較，誤差是否有降低\n",
    "6. 同學若也懂其他模型的知識也可以試試看一樣的做法比較看看\n",
    "\n",
    "#### 圖一 (Train, Validation and Test)\n",
    "<img src=\"./train_val_test.png\" style=\"zoom:30%;\" />\n",
    "\n",
    "#### 圖二 (是我前後調整的結果)\n",
    "<img src=\"./report.png\" style=\"zoom:30%;\" />"
   ]
  },
  {
   "cell_type": "code",
   "execution_count": 3,
   "metadata": {},
   "outputs": [
    {
     "name": "stdout",
     "output_type": "stream",
     "text": [
      "(657, 89) (657,) (438, 89) (438,) (365, 89) (365,)\n"
     ]
    }
   ],
   "source": [
    "# Read data\n",
    "split_idx = 850\n",
    "x_train = np.load('x_train.npy')\n",
    "y_train = np.load('y_train.npy')\n",
    "x_test = np.load('x_test.npy')\n",
    "y_test = np.load('y_test.npy')\n",
    "x_train, x_val, y_train, y_val = train_test_split(x_train, y_train, test_size = 0.40)\n",
    "print(x_train.shape, y_train.shape, x_val.shape, y_val.shape, x_test.shape, y_test.shape)"
   ]
  },
  {
   "cell_type": "markdown",
   "metadata": {},
   "source": [
    "## 請同學先依照上課的知識，調整一個沒有 overfitting 的決策樹，請以 mape 作為參考誤差指標，較容易看出關係"
   ]
  },
  {
   "cell_type": "code",
   "execution_count": 6,
   "metadata": {},
   "outputs": [
    {
     "data": {
      "text/plain": [
       "DecisionTreeRegressor(ccp_alpha=200, criterion='mae', max_depth=25,\n",
       "                      max_features='sqrt')"
      ]
     },
     "execution_count": 6,
     "metadata": {},
     "output_type": "execute_result"
    }
   ],
   "source": [
    "DT = DecisionTreeRegressor(criterion='mae', splitter='best', max_depth=25, min_samples_split=2, min_samples_leaf=1, \n",
    "                           min_weight_fraction_leaf=0.0, max_features='sqrt', ccp_alpha = 200, random_state=None, max_leaf_nodes=None, \n",
    "                           min_impurity_decrease=0.0, min_impurity_split=None)\n",
    "DT.fit(x_train, y_train)"
   ]
  },
  {
   "cell_type": "code",
   "execution_count": 8,
   "metadata": {},
   "outputs": [],
   "source": [
    "def regression_report(y_true, pred, verbose = True):\n",
    "    mse = MSE(y_true, pred)\n",
    "    mae = MAE(y_true, pred)\n",
    "    rmse = np.sqrt(mse)\n",
    "    mape = MAPE(y_true, pred)\n",
    "    if verbose:\n",
    "        print(f'mse = {mse:.4f}')\n",
    "        print(f'mae = {mae:.4f}')\n",
    "        print(f'rmse = {rmse:.4f}')\n",
    "        print(f'mape = {mape:.4f}')\n",
    "\n",
    "    # return mse, mae, rmse, mape"
   ]
  },
  {
   "cell_type": "code",
   "execution_count": 9,
   "metadata": {},
   "outputs": [
    {
     "name": "stdout",
     "output_type": "stream",
     "text": [
      "Train report\n",
      "mse = 844111483.7040\n",
      "mae = 20193.2877\n",
      "rmse = 29053.5967\n",
      "mape = 0.1285\n",
      "\n",
      "Validation report\n",
      "mse = 3294975258.0719\n",
      "mae = 31118.5411\n",
      "rmse = 57401.8750\n",
      "mape = 0.1800\n",
      "\n",
      "Test report\n",
      "mse = 3034257259.9952\n",
      "mae = 30984.7740\n",
      "rmse = 55084.0926\n",
      "mape = 0.1628\n"
     ]
    }
   ],
   "source": [
    "print('Train report')\n",
    "pred = DT.predict(x_train)\n",
    "regression_report(y_train, pred)\n",
    "\n",
    "print()\n",
    "\n",
    "print('Validation report')\n",
    "pred = DT.predict(x_val)\n",
    "regression_report(y_val, pred)\n",
    "\n",
    "print()\n",
    "\n",
    "print('Test report')\n",
    "pred = DT.predict(x_test)\n",
    "regression_report(y_test, pred)"
   ]
  },
  {
   "cell_type": "markdown",
   "metadata": {},
   "source": [
    "## 調整 決策樹參數\n",
    "### 請同學從 criterion 的設定中，判斷這組資料集裡的 outlier 多嗎？"
   ]
  },
  {
   "cell_type": "code",
   "execution_count": 16,
   "metadata": {},
   "outputs": [
    {
     "data": {
      "image/png": "[encoded data removed]",
      "text/plain": [
       "<Figure size 720x240 with 2 Axes>"
      ]
     },
     "metadata": {
      "needs_background": "light"
     },
     "output_type": "display_data"
    }
   ],
   "source": [
    "params = ['mse', 'mae', 'friedman_mse', 'poisson']\n",
    "train_loss = np.zeros(len(params))\n",
    "val_loss = np.zeros(len(params))\n",
    "\n",
    "for i, param in enumerate(params):\n",
    "    DT = DecisionTreeRegressor(\n",
    "                criterion = param, max_depth = 25, min_samples_split = 3,\n",
    "                min_samples_leaf = 4, max_features = 'sqrt', ccp_alpha = 200\n",
    "            )\n",
    "    DT.fit(x_train, y_train)\n",
    "\n",
    "    pred = DT.predict(x_train)\n",
    "    train_loss[i] = MAPE(pred, y_train)\n",
    "\n",
    "    pred = DT.predict(x_val)\n",
    "    val_loss[i] = MAPE(pred, y_val)\n",
    "\n",
    "plt.figure(figsize=(12, 4), dpi = 60)\n",
    "plt.subplot(1, 2, 1)\n",
    "plt.title('train')\n",
    "plt.scatter(x = params, y = train_loss)\n",
    "\n",
    "plt.subplot(1, 2, 2)\n",
    "plt.title('val')\n",
    "plt.scatter(x = params, y = val_loss)\n",
    "\n",
    "plt.show()"
   ]
  },
  {
   "cell_type": "markdown",
   "metadata": {},
   "source": [
    "## 調參後，最好的 DecisionTree"
   ]
  },
  {
   "cell_type": "code",
   "execution_count": 17,
   "metadata": {},
   "outputs": [
    {
     "name": "stdout",
     "output_type": "stream",
     "text": [
      "Train report\n",
      "mse = 784838409.1878\n",
      "mae = 17834.4017\n",
      "rmse = 28014.9676\n",
      "mape = 0.1048\n",
      "\n",
      "Validation report\n",
      "mse = 1455321328.2443\n",
      "mae = 24736.7689\n",
      "rmse = 38148.6740\n",
      "mape = 0.1390\n",
      "\n",
      "Test report\n",
      "mse = 1552630063.4218\n",
      "mae = 24379.7446\n",
      "rmse = 39403.4271\n",
      "mape = 0.1384\n"
     ]
    }
   ],
   "source": [
    "DT = DecisionTreeRegressor(\n",
    "            criterion = 'friedman_mse', max_depth = 25, min_samples_split = 5,\n",
    "            min_samples_leaf = 13, max_features = 'auto', ccp_alpha = 200\n",
    ")\n",
    "\n",
    "DT.fit(x_train, y_train)\n",
    "\n",
    "print('Train report')\n",
    "pred = DT.predict(x_train)\n",
    "regression_report(y_train, pred)\n",
    "\n",
    "print()\n",
    "\n",
    "print('Validation report')\n",
    "pred = DT.predict(x_val)\n",
    "regression_report(y_val, pred)\n",
    "\n",
    "print()\n",
    "\n",
    "print('Test report')\n",
    "pred = DT.predict(x_test)\n",
    "regression_report(y_test, pred)"
   ]
  },
  {
   "cell_type": "code",
   "execution_count": null,
   "metadata": {},
   "outputs": [],
   "source": []
  }
 ],
 "metadata": {
  "interpreter": {
   "hash": "aee8b7b246df8f9039afb4144a1f6fd8d2ca17a180786b69acc140d282b71a49"
  },
  "kernelspec": {
   "display_name": "Python 3",
   "language": "python",
   "name": "python3"
  },
  "language_info": {
   "codemirror_mode": {
    "name": "ipython",
    "version": 3
   },
   "file_extension": ".py",
   "mimetype": "text/x-python",
   "name": "python",
   "nbconvert_exporter": "python",
   "pygments_lexer": "ipython3",
   "version": "3.8.10"
  }
 },
 "nbformat": 4,
 "nbformat_minor": 2
}
