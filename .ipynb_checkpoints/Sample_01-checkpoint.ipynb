{
 "cells": [
  {
   "cell_type": "code",
   "execution_count": 2,
   "id": "under-navigator",
   "metadata": {},
   "outputs": [],
   "source": [
    "import numpy as np\n",
    "import pandas as pd"
   ]
  },
  {
   "cell_type": "markdown",
   "id": "4de554c7",
   "metadata": {},
   "source": [
    "# Numpy 教學\n",
    "## 1. Numpy array 建立"
   ]
  },
  {
   "cell_type": "code",
   "execution_count": 33,
   "id": "82f59533",
   "metadata": {},
   "outputs": [
    {
     "name": "stdout",
     "output_type": "stream",
     "text": [
      "[[0. 0. 0.]\n",
      " [0. 0. 0.]\n",
      " [0. 0. 0.]]\n",
      "\n",
      "[[1. 1. 1.]\n",
      " [1. 1. 1.]\n",
      " [1. 1. 1.]]\n",
      "\n",
      "[[1. 1. 1.]\n",
      " [1. 1. 1.]\n",
      " [1. 1. 1.]]\n",
      "\n",
      "[0 3 6 9]\n",
      "\n",
      "[ 0.  6. 12.]\n",
      "\n",
      "[0. 0. 0. 0. 0. 0. 0. 0. 0.]\n"
     ]
    }
   ],
   "source": [
    "Zeros = np.zeros((3, 3))\n",
    "Ones = np.ones((3, 3))\n",
    "Empty = np.empty((3, 3))\n",
    "Arange = np.arange(0, 12, 3)\n",
    "Line = np.linspace(0, 12, 3)\n",
    "Reshape = Zeros.reshape(-1)\n",
    "print(Zeros, Ones, Empty, Arange, Line, Reshape, sep = '\\n\\n')"
   ]
  },
  {
   "cell_type": "markdown",
   "id": "5400d363",
   "metadata": {},
   "source": [
    "## 2. Numpy 計算"
   ]
  },
  {
   "cell_type": "code",
   "execution_count": 34,
   "id": "487a46ab",
   "metadata": {},
   "outputs": [
    {
     "name": "stdout",
     "output_type": "stream",
     "text": [
      "[[ 0  1  2  3]\n",
      " [ 4  5  6  7]\n",
      " [ 8  9 10 11]] \n",
      "\n",
      "sum1, sum2, sum3, sum4, sum5 = ([12 15 18 21], [ 6 22 38], 66, 66, 66)\n"
     ]
    }
   ],
   "source": [
    "arr = np.arange(0, 12).reshape((3, 4))\n",
    "sum1 = np.sum(arr, axis = 0)\n",
    "sum2 = np.sum(arr, axis = 1)\n",
    "sum3 = np.sum(arr, axis = (0, 1))\n",
    "sum4 = np.sum(arr, axis = (1, 0))\n",
    "sum5 = np.sum(arr)\n",
    "print(arr, '\\n')\n",
    "print(f'sum1, sum2, sum3, sum4, sum5 = ({sum1}, {sum2}, {sum3}, {sum4}, {sum5})')"
   ]
  },
  {
   "cell_type": "code",
   "execution_count": 35,
   "id": "b8fa1143",
   "metadata": {},
   "outputs": [
    {
     "name": "stdout",
     "output_type": "stream",
     "text": [
      "[24 30 36 42]\n",
      "\n",
      "[0 0 0 0]\n",
      "\n",
      "[36 45 54 63]\n",
      "\n",
      "[ 6.   7.5  9.  10.5]\n"
     ]
    }
   ],
   "source": [
    "print(sum1 + sum1, sum1 - sum1, sum1 * 3, sum1 / 2, sep = '\\n\\n')\n",
    "# sum1 + sum2"
   ]
  },
  {
   "cell_type": "code",
   "execution_count": 36,
   "id": "e21168e7",
   "metadata": {},
   "outputs": [
    {
     "name": "stdout",
     "output_type": "stream",
     "text": [
      "[[False False False False]\n",
      " [False  True False False]\n",
      " [False False False False]]\n",
      "\n",
      "[[False False False False]\n",
      " [False False  True  True]\n",
      " [ True  True  True  True]]\n",
      "\n",
      "[[ True  True  True  True]\n",
      " [ True False False False]\n",
      " [False False False False]]\n"
     ]
    }
   ],
   "source": [
    "print(arr == 5, arr > 5, arr <5, sep = '\\n\\n')"
   ]
  },
  {
   "cell_type": "markdown",
   "id": "c01109a0",
   "metadata": {},
   "source": [
    "## 3. Numpy IO"
   ]
  },
  {
   "cell_type": "code",
   "execution_count": 37,
   "id": "dc04940e",
   "metadata": {},
   "outputs": [],
   "source": [
    "np.save('arr.npy', arr)\n",
    "arr = np.load('arr.npy')"
   ]
  },
  {
   "cell_type": "markdown",
   "id": "7f34b227",
   "metadata": {},
   "source": [
    "# Pandas 教學\n",
    "## 1. Pandas 型別\n",
    "* Series\n",
    "* Dataframe"
   ]
  },
  {
   "cell_type": "code",
   "execution_count": 38,
   "id": "c70a58fe",
   "metadata": {},
   "outputs": [
    {
     "name": "stdout",
     "output_type": "stream",
     "text": [
      "0    12\n",
      "1    15\n",
      "2    18\n",
      "3    21\n",
      "dtype: int64\n",
      "\n",
      "0    1\n",
      "1    2\n",
      "2    3\n",
      "3    4\n",
      "dtype: int64\n"
     ]
    }
   ],
   "source": [
    "# ------------- Series -------------\n",
    "\n",
    "# From numpy array\n",
    "series1 = pd.Series(sum1)\n",
    "\n",
    "# From Python's list\n",
    "series2 = pd.Series([1, 2, 3, 4])\n",
    "\n",
    "print(series1, series2, sep = '\\n\\n')"
   ]
  },
  {
   "cell_type": "code",
   "execution_count": 3,
   "id": "9edf61c4",
   "metadata": {},
   "outputs": [
    {
     "name": "stdout",
     "output_type": "stream",
     "text": [
      "                col0      col1      col2      col3\n",
      "2021-01-01 -0.790559  0.193224  1.200098  1.119370\n",
      "2021-01-02  1.593872  0.816702 -1.608592 -0.442094\n",
      "2021-01-03  1.148523  0.239543 -0.874756 -0.198366\n",
      "2021-01-04 -0.139080 -0.700302 -1.079683  0.965502\n",
      "2021-01-05  0.310711 -0.250714 -0.548236  1.332510\n",
      "2021-01-06 -0.616049  0.984178  0.492908 -0.100160 \n",
      "\n",
      "DatetimeIndex(['2021-01-01', '2021-01-02', '2021-01-03', '2021-01-04',\n",
      "               '2021-01-05', '2021-01-06'],\n",
      "              dtype='datetime64[ns]', freq='D')\n",
      "\n",
      "Index(['col0', 'col1', 'col2', 'col3'], dtype='object')\n",
      "\n",
      "           col0      col1      col2      col3\n",
      "count  6.000000  6.000000  6.000000  6.000000\n",
      "mean   0.251236  0.213772 -0.403044  0.446127\n",
      "std    0.959291  0.633943  1.051435  0.776070\n",
      "min   -0.790559 -0.700302 -1.608592 -0.442094\n",
      "25%   -0.496807 -0.139730 -1.028452 -0.173815\n",
      "50%    0.085816  0.216383 -0.711496  0.432671\n",
      "75%    0.939070  0.672412  0.232622  1.080903\n",
      "max    1.593872  0.984178  1.200098  1.332510\n"
     ]
    }
   ],
   "source": [
    "# ------------- Dataframe -------------\n",
    "dates = pd.date_range('20210101',periods = 6)\n",
    "df = pd.DataFrame(np.random.randn(6, 4), index=dates, columns = [f\"col{i}\" for i in range(4)])\n",
    "print(df, '\\n')\n",
    "print(df.index, df.columns, df.describe(), sep = '\\n\\n')"
   ]
  },
  {
   "cell_type": "markdown",
   "id": "7f1f9bd2",
   "metadata": {},
   "source": [
    "## 2. IO"
   ]
  },
  {
   "cell_type": "code",
   "execution_count": 40,
   "id": "9630c2a8",
   "metadata": {},
   "outputs": [],
   "source": [
    "df = pd.read_csv('homework.csv')\n",
    "# df.to_csv(index = False)"
   ]
  },
  {
   "cell_type": "markdown",
   "id": "5e308a1f",
   "metadata": {},
   "source": [
    "## 3. index\n",
    "* simple\n",
    "* loc\n",
    "* iloc\n",
    "* ix(deprecated in 0.20.0 version)"
   ]
  },
  {
   "cell_type": "code",
   "execution_count": 43,
   "id": "1477081d",
   "metadata": {},
   "outputs": [
    {
     "name": "stdout",
     "output_type": "stream",
     "text": [
      "2021-01-01    1.006763\n",
      "2021-01-02   -0.718443\n",
      "2021-01-03    0.099471\n",
      "2021-01-04   -0.254617\n",
      "2021-01-05   -0.868964\n",
      "2021-01-06   -0.145605\n",
      "Freq: D, Name: col1, dtype: float64\n",
      "\n",
      "                col1      col2\n",
      "2021-01-01  1.006763 -0.058786\n",
      "2021-01-02 -0.718443 -0.755712\n",
      "2021-01-03  0.099471 -0.151590\n",
      "2021-01-04 -0.254617 -0.185322\n",
      "2021-01-05 -0.868964  1.364771\n",
      "2021-01-06 -0.145605 -0.058780\n",
      "\n",
      "2021-01-01    1.006763\n",
      "2021-01-02   -0.718443\n",
      "Freq: D, Name: col1, dtype: float64\n",
      "\n",
      "2021-01-01    1.006763\n",
      "2021-01-02   -0.718443\n",
      "Freq: D, Name: col1, dtype: float64\n",
      "\n",
      "                col0      col1      col2      col3\n",
      "2021-01-01 -0.926929  1.006763 -0.058786  2.358416\n",
      "2021-01-02 -1.615454 -0.718443 -0.755712 -0.179665\n",
      "\n"
     ]
    }
   ],
   "source": [
    "# simple\n",
    "print(df['col1'], df[['col1', 'col2']], df[:'2021-01-02']['col1'], sep = '\\n\\n')\n",
    "print()\n",
    "\n",
    "# loc (先 row 後 column)\n",
    "print(df.loc[:'2021-01-02']['col1'], sep = '\\n\\n')\n",
    "print()\n",
    "# df['col1']\n",
    "\n",
    "# iloc (先 row 後 column)\n",
    "print(df.iloc[:2][:3], sep = '\\n\\n')\n",
    "print()\n",
    "\n",
    "# ix (先 row 後 column)\n",
    "# print(df.ix[:2][:col3], sep = '\\n\\n')\n",
    "# print()\n"
   ]
  },
  {
   "cell_type": "markdown",
   "id": "44df27bd",
   "metadata": {},
   "source": [
    "## 4. concat\n"
   ]
  },
  {
   "cell_type": "code",
   "execution_count": 44,
   "id": "27875954",
   "metadata": {},
   "outputs": [
    {
     "name": "stdout",
     "output_type": "stream",
     "text": [
      "                col4      col5\n",
      "2021-01-01 -1.616816 -0.850349\n",
      "2021-01-02  0.142302  0.771085\n",
      "2021-01-03 -0.368211 -0.106690\n",
      "2021-01-04 -1.827875 -1.139419\n",
      "2021-01-05 -0.635753  0.290085\n",
      "2021-01-06 -0.939016  0.766036 \n",
      "\n",
      "                col0      col1      col2      col3      col4      col5\n",
      "2021-01-01 -0.926929  1.006763 -0.058786  2.358416 -1.616816 -0.850349\n",
      "2021-01-02 -1.615454 -0.718443 -0.755712 -0.179665  0.142302  0.771085\n",
      "2021-01-03 -0.119205  0.099471 -0.151590 -1.706689 -0.368211 -0.106690\n",
      "2021-01-04 -0.198920 -0.254617 -0.185322 -1.271430 -1.827875 -1.139419\n",
      "2021-01-05  0.352327 -0.868964  1.364771  0.638715 -0.635753  0.290085\n",
      "2021-01-06  1.196461 -0.145605 -0.058780  0.393371 -0.939016  0.766036\n",
      "\n",
      "                col0      col1      col2      col3      col4      col5\n",
      "2021-01-01 -0.926929  1.006763 -0.058786  2.358416       NaN       NaN\n",
      "2021-01-02 -1.615454 -0.718443 -0.755712 -0.179665       NaN       NaN\n",
      "2021-01-03 -0.119205  0.099471 -0.151590 -1.706689       NaN       NaN\n",
      "2021-01-04 -0.198920 -0.254617 -0.185322 -1.271430       NaN       NaN\n",
      "2021-01-05  0.352327 -0.868964  1.364771  0.638715       NaN       NaN\n",
      "2021-01-06  1.196461 -0.145605 -0.058780  0.393371       NaN       NaN\n",
      "2021-01-01       NaN       NaN       NaN       NaN -1.616816 -0.850349\n",
      "2021-01-02       NaN       NaN       NaN       NaN  0.142302  0.771085\n",
      "2021-01-03       NaN       NaN       NaN       NaN -0.368211 -0.106690\n",
      "2021-01-04       NaN       NaN       NaN       NaN -1.827875 -1.139419\n",
      "2021-01-05       NaN       NaN       NaN       NaN -0.635753  0.290085\n",
      "2021-01-06       NaN       NaN       NaN       NaN -0.939016  0.766036\n"
     ]
    }
   ],
   "source": [
    "# ------------- Dataframe -------------\n",
    "dates = pd.date_range('20210101',periods = 6)\n",
    "tmp = pd.DataFrame(np.random.randn(6, 2), index=dates, columns = [f\"col{i}\" for i in range(4, 6)])\n",
    "print(tmp, '\\n')\n",
    "\n",
    "df1 = pd.concat([df, tmp], axis = 1)\n",
    "df2 = pd.concat([df, tmp], axis = 0)\n",
    "print(df1, df2, sep = '\\n\\n')"
   ]
  },
  {
   "cell_type": "markdown",
   "id": "4c2ede66",
   "metadata": {},
   "source": [
    "## 5. nan"
   ]
  },
  {
   "cell_type": "code",
   "execution_count": 45,
   "id": "5411cf21",
   "metadata": {},
   "outputs": [
    {
     "data": {
      "text/plain": [
       "True"
      ]
     },
     "execution_count": 45,
     "metadata": {},
     "output_type": "execute_result"
    }
   ],
   "source": [
    "df = pd.read_csv('homework.csv')\n",
    "# drop \n",
    "df1 = df.dropna(axis = 0, how = 'any')\n",
    "\n",
    "# 補零\n",
    "df2 = df.fillna(value = 0)\n",
    "\n",
    "# 用一個 dictionary 填補\n",
    "df3 = df.fillna(value = {f\"col{i}\" : i for i in range(df.shape[1])})\n",
    "\n",
    "# 判斷 df 裡是否有 nan\n",
    "True in np.asarray(df.isnull())"
   ]
  },
  {
   "cell_type": "code",
   "execution_count": 4,
   "id": "5d8b0a4a",
   "metadata": {},
   "outputs": [
    {
     "data": {
      "text/html": [
       "<div>\n",
       "<style scoped>\n",
       "    .dataframe tbody tr th:only-of-type {\n",
       "        vertical-align: middle;\n",
       "    }\n",
       "\n",
       "    .dataframe tbody tr th {\n",
       "        vertical-align: top;\n",
       "    }\n",
       "\n",
       "    .dataframe thead th {\n",
       "        text-align: right;\n",
       "    }\n",
       "</style>\n",
       "<table border=\"1\" class=\"dataframe\">\n",
       "  <thead>\n",
       "    <tr style=\"text-align: right;\">\n",
       "      <th></th>\n",
       "      <th>col0</th>\n",
       "      <th>col1</th>\n",
       "      <th>col2</th>\n",
       "      <th>col3</th>\n",
       "    </tr>\n",
       "  </thead>\n",
       "  <tbody>\n",
       "    <tr>\n",
       "      <th>2021-01-01</th>\n",
       "      <td>-0.790559</td>\n",
       "      <td>0.193224</td>\n",
       "      <td>1.200098</td>\n",
       "      <td>1.119370</td>\n",
       "    </tr>\n",
       "    <tr>\n",
       "      <th>2021-01-02</th>\n",
       "      <td>1.593872</td>\n",
       "      <td>0.816702</td>\n",
       "      <td>-1.608592</td>\n",
       "      <td>-0.442094</td>\n",
       "    </tr>\n",
       "    <tr>\n",
       "      <th>2021-01-03</th>\n",
       "      <td>1.148523</td>\n",
       "      <td>0.239543</td>\n",
       "      <td>-0.874756</td>\n",
       "      <td>-0.198366</td>\n",
       "    </tr>\n",
       "    <tr>\n",
       "      <th>2021-01-04</th>\n",
       "      <td>-0.139080</td>\n",
       "      <td>-0.700302</td>\n",
       "      <td>-1.079683</td>\n",
       "      <td>0.965502</td>\n",
       "    </tr>\n",
       "    <tr>\n",
       "      <th>2021-01-05</th>\n",
       "      <td>0.310711</td>\n",
       "      <td>-0.250714</td>\n",
       "      <td>-0.548236</td>\n",
       "      <td>1.332510</td>\n",
       "    </tr>\n",
       "    <tr>\n",
       "      <th>2021-01-06</th>\n",
       "      <td>-0.616049</td>\n",
       "      <td>0.984178</td>\n",
       "      <td>0.492908</td>\n",
       "      <td>-0.100160</td>\n",
       "    </tr>\n",
       "  </tbody>\n",
       "</table>\n",
       "</div>"
      ],
      "text/plain": [
       "                col0      col1      col2      col3\n",
       "2021-01-01 -0.790559  0.193224  1.200098  1.119370\n",
       "2021-01-02  1.593872  0.816702 -1.608592 -0.442094\n",
       "2021-01-03  1.148523  0.239543 -0.874756 -0.198366\n",
       "2021-01-04 -0.139080 -0.700302 -1.079683  0.965502\n",
       "2021-01-05  0.310711 -0.250714 -0.548236  1.332510\n",
       "2021-01-06 -0.616049  0.984178  0.492908 -0.100160"
      ]
     },
     "execution_count": 4,
     "metadata": {},
     "output_type": "execute_result"
    }
   ],
   "source": [
    "df"
   ]
  },
  {
   "cell_type": "code",
   "execution_count": 6,
   "id": "c2ff2060",
   "metadata": {},
   "outputs": [
    {
     "name": "stdout",
     "output_type": "stream",
     "text": [
      "2021-01-01   -0.790559\n",
      "2021-01-02    1.593872\n",
      "2021-01-03    1.148523\n",
      "2021-01-04   -0.139080\n",
      "2021-01-05    0.310711\n",
      "2021-01-06   -0.616049\n",
      "Freq: D, Name: col0, dtype: float64\n",
      "\n",
      "2021-01-01    0.193224\n",
      "2021-01-02    0.816702\n",
      "2021-01-03    0.239543\n",
      "2021-01-04   -0.700302\n",
      "2021-01-05   -0.250714\n",
      "2021-01-06    0.984178\n",
      "Freq: D, Name: col1, dtype: float64\n",
      "\n",
      "2021-01-01    1.200098\n",
      "2021-01-02   -1.608592\n",
      "2021-01-03   -0.874756\n",
      "2021-01-04   -1.079683\n",
      "2021-01-05   -0.548236\n",
      "2021-01-06    0.492908\n",
      "Freq: D, Name: col2, dtype: float64\n",
      "\n",
      "2021-01-01    1.119370\n",
      "2021-01-02   -0.442094\n",
      "2021-01-03   -0.198366\n",
      "2021-01-04    0.965502\n",
      "2021-01-05    1.332510\n",
      "2021-01-06   -0.100160\n",
      "Freq: D, Name: col3, dtype: float64\n"
     ]
    }
   ],
   "source": [
    "print(df['col0'], df['col1'], df['col2'], df['col3'], sep = '\\n\\n')"
   ]
  },
  {
   "cell_type": "code",
   "execution_count": null,
   "id": "d9108fcb",
   "metadata": {},
   "outputs": [],
   "source": []
  }
 ],
 "metadata": {
  "kernelspec": {
   "display_name": "Python 3.9.2 64-bit",
   "name": "python36364bit82a675ddeaaa48809fde3367d7b1c76e"
  },
  "language_info": {
   "codemirror_mode": {
    "name": "ipython",
    "version": 3
   },
   "file_extension": ".py",
   "mimetype": "text/x-python",
   "name": "python",
   "nbconvert_exporter": "python",
   "pygments_lexer": "ipython3",
   "version": "3.9.2"
  },
  "metadata": {
   "interpreter": {
    "hash": "aee8b7b246df8f9039afb4144a1f6fd8d2ca17a180786b69acc140d282b71a49"
   }
  }
 },
 "nbformat": 4,
 "nbformat_minor": 5
}
