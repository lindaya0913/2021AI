{
 "cells": [
  {
   "cell_type": "code",
   "execution_count": 2,
   "metadata": {},
   "outputs": [],
   "source": [
    "import pandas as pd\n",
    "import numpy as np\n",
    "\n",
    "from scipy.stats import norm\n",
    "\n",
    "from sklearn.model_selection import train_test_split\n",
    "from sklearn.experimental import enable_halving_search_cv\n",
    "from sklearn.model_selection import HalvingRandomSearchCV as HRSCV\n",
    "from sklearn.ensemble import RandomForestRegressor\n",
    "\n",
    "from project_module import data_cleaning\n",
    "from project_module import feature_engineering\n",
    "from project_module import regression_report"
   ]
  },
  {
   "cell_type": "markdown",
   "metadata": {},
   "source": [
    "## Data Cleaning"
   ]
  },
  {
   "cell_type": "code",
   "execution_count": 3,
   "metadata": {},
   "outputs": [
    {
     "name": "stdout",
     "output_type": "stream",
     "text": [
      "<class 'pandas.core.frame.DataFrame'>\n",
      "Int64Index: 1460 entries, 0 to 364\n",
      "Data columns (total 79 columns):\n",
      " #   Column         Non-Null Count  Dtype  \n",
      "---  ------         --------------  -----  \n",
      " 0   Id             1460 non-null   int64  \n",
      " 1   MSSubClass     1460 non-null   int64  \n",
      " 2   MSZoning       1460 non-null   object \n",
      " 3   LotFrontage    1460 non-null   float64\n",
      " 4   LotArea        1460 non-null   int64  \n",
      " 5   Street         1460 non-null   object \n",
      " 6   Alley          1460 non-null   object \n",
      " 7   LotShape       1460 non-null   object \n",
      " 8   LandContour    1460 non-null   object \n",
      " 9   Utilities      1460 non-null   object \n",
      " 10  LotConfig      1460 non-null   object \n",
      " 11  LandSlope      1460 non-null   object \n",
      " 12  Neighborhood   1460 non-null   object \n",
      " 13  Condition1     1460 non-null   object \n",
      " 14  Condition2     1460 non-null   object \n",
      " 15  BldgType       1460 non-null   object \n",
      " 16  HouseStyle     1460 non-null   object \n",
      " 17  OverallQual    1460 non-null   int64  \n",
      " 18  OverallCond    1460 non-null   int64  \n",
      " 19  YearBuilt      1460 non-null   int64  \n",
      " 20  YearRemodAdd   1460 non-null   int64  \n",
      " 21  RoofStyle      1460 non-null   object \n",
      " 22  RoofMatl       1460 non-null   object \n",
      " 23  Exterior1st    1460 non-null   object \n",
      " 24  Exterior2nd    1460 non-null   object \n",
      " 25  MasVnrType     1460 non-null   object \n",
      " 26  MasVnrArea     1460 non-null   float64\n",
      " 27  ExterQual      1460 non-null   object \n",
      " 28  ExterCond      1460 non-null   object \n",
      " 29  Foundation     1460 non-null   object \n",
      " 30  BsmtQual       1460 non-null   object \n",
      " 31  BsmtCond       1460 non-null   object \n",
      " 32  BsmtExposure   1460 non-null   object \n",
      " 33  BsmtFinType1   1460 non-null   object \n",
      " 34  BsmtFinSF1     1460 non-null   int64  \n",
      " 35  BsmtFinType2   1460 non-null   object \n",
      " 36  BsmtFinSF2     1460 non-null   int64  \n",
      " 37  BsmtUnfSF      1460 non-null   int64  \n",
      " 38  TotalBsmtSF    1460 non-null   int64  \n",
      " 39  Heating        1460 non-null   object \n",
      " 40  HeatingQC      1460 non-null   object \n",
      " 41  CentralAir     1460 non-null   object \n",
      " 42  Electrical     1460 non-null   object \n",
      " 43  1stFlrSF       1460 non-null   int64  \n",
      " 44  2ndFlrSF       1460 non-null   int64  \n",
      " 45  LowQualFinSF   1460 non-null   int64  \n",
      " 46  GrLivArea      1460 non-null   int64  \n",
      " 47  BsmtFullBath   1460 non-null   int64  \n",
      " 48  BsmtHalfBath   1460 non-null   int64  \n",
      " 49  FullBath       1460 non-null   int64  \n",
      " 50  HalfBath       1460 non-null   int64  \n",
      " 51  BedroomAbvGr   1460 non-null   int64  \n",
      " 52  KitchenAbvGr   1460 non-null   int64  \n",
      " 53  KitchenQual    1460 non-null   object \n",
      " 54  TotRmsAbvGrd   1460 non-null   int64  \n",
      " 55  Functional     1460 non-null   object \n",
      " 56  Fireplaces     1460 non-null   int64  \n",
      " 57  FireplaceQu    1460 non-null   object \n",
      " 58  GarageType     1460 non-null   object \n",
      " 59  GarageYrBlt    1460 non-null   float64\n",
      " 60  GarageFinish   1460 non-null   object \n",
      " 61  GarageCars     1460 non-null   int64  \n",
      " 62  GarageArea     1460 non-null   int64  \n",
      " 63  GarageQual     1460 non-null   object \n",
      " 64  GarageCond     1460 non-null   object \n",
      " 65  PavedDrive     1460 non-null   object \n",
      " 66  WoodDeckSF     1460 non-null   int64  \n",
      " 67  OpenPorchSF    1460 non-null   int64  \n",
      " 68  EnclosedPorch  1460 non-null   int64  \n",
      " 69  3SsnPorch      1460 non-null   int64  \n",
      " 70  ScreenPorch    1460 non-null   int64  \n",
      " 71  PoolArea       1460 non-null   int64  \n",
      " 72  MiscFeature    1460 non-null   object \n",
      " 73  MiscVal        1460 non-null   int64  \n",
      " 74  MoSold         1460 non-null   int64  \n",
      " 75  YrSold         1460 non-null   int64  \n",
      " 76  SaleType       1460 non-null   object \n",
      " 77  SaleCondition  1460 non-null   object \n",
      " 78  SalePrice      1460 non-null   int64  \n",
      "dtypes: float64(3), int64(35), object(41)\n",
      "memory usage: 912.5+ KB\n"
     ]
    }
   ],
   "source": [
    "train = pd.read_csv('train.csv')\n",
    "test = pd.read_csv('test.csv')\n",
    "\n",
    "total = data_cleaning(train, test)\n",
    "total.info()"
   ]
  },
  {
   "cell_type": "markdown",
   "metadata": {},
   "source": [
    "## Feature Engineering"
   ]
  },
  {
   "cell_type": "code",
   "execution_count": 4,
   "metadata": {},
   "outputs": [
    {
     "name": "stdout",
     "output_type": "stream",
     "text": [
      "<class 'pandas.core.frame.DataFrame'>\n",
      "Int64Index: 1460 entries, 0 to 364\n",
      "Data columns (total 90 columns):\n",
      " #   Column             Non-Null Count  Dtype  \n",
      "---  ------             --------------  -----  \n",
      " 0   MSSubClass         1460 non-null   int64  \n",
      " 1   MSZoning           1460 non-null   int64  \n",
      " 2   LotFrontage        1460 non-null   float64\n",
      " 3   LotArea            1460 non-null   int64  \n",
      " 4   Street             1460 non-null   int32  \n",
      " 5   Neighborhood       1460 non-null   int32  \n",
      " 6   Condition1         1460 non-null   int32  \n",
      " 7   Condition2         1460 non-null   int64  \n",
      " 8   HouseStyle         1460 non-null   int32  \n",
      " 9   OverallQual        1460 non-null   int64  \n",
      " 10  OverallCond        1460 non-null   int64  \n",
      " 11  RoofStyle          1460 non-null   int64  \n",
      " 12  RoofMatl           1460 non-null   int32  \n",
      " 13  Exterior1st        1460 non-null   int32  \n",
      " 14  Exterior2nd        1460 non-null   int32  \n",
      " 15  MasVnrType         1460 non-null   int64  \n",
      " 16  MasVnrArea         1460 non-null   float64\n",
      " 17  ExterQual          1460 non-null   int64  \n",
      " 18  Foundation         1460 non-null   int32  \n",
      " 19  BsmtQual           1460 non-null   int64  \n",
      " 20  BsmtCond           1460 non-null   int64  \n",
      " 21  BsmtExposure       1460 non-null   int64  \n",
      " 22  BsmtFinType1       1460 non-null   int32  \n",
      " 23  BsmtFinType2       1460 non-null   int32  \n",
      " 24  BsmtUnfSF          1460 non-null   int64  \n",
      " 25  Heating            1460 non-null   int32  \n",
      " 26  HeatingQC          1460 non-null   int32  \n",
      " 27  CentralAir         1460 non-null   int64  \n",
      " 28  Electrical         1460 non-null   int32  \n",
      " 29  LowQualFinSF       1460 non-null   int64  \n",
      " 30  GrLivArea          1460 non-null   int64  \n",
      " 31  BedroomAbvGr       1460 non-null   int64  \n",
      " 32  KitchenAbvGr       1460 non-null   int64  \n",
      " 33  KitchenQual        1460 non-null   int64  \n",
      " 34  TotRmsAbvGrd       1460 non-null   int64  \n",
      " 35  Functional         1460 non-null   int32  \n",
      " 36  Fireplaces         1460 non-null   int64  \n",
      " 37  FireplaceQu        1460 non-null   int32  \n",
      " 38  GarageType         1460 non-null   int32  \n",
      " 39  GarageYrBlt        1460 non-null   float64\n",
      " 40  GarageFinish       1460 non-null   int64  \n",
      " 41  GarageCars         1460 non-null   int64  \n",
      " 42  GarageArea         1460 non-null   int64  \n",
      " 43  GarageQual         1460 non-null   int32  \n",
      " 44  GarageCond         1460 non-null   int32  \n",
      " 45  PavedDrive         1460 non-null   int64  \n",
      " 46  PoolArea           1460 non-null   int64  \n",
      " 47  MiscFeature        1460 non-null   int32  \n",
      " 48  MiscVal            1460 non-null   int64  \n",
      " 49  MoSold             1460 non-null   int64  \n",
      " 50  YrSold             1460 non-null   int64  \n",
      " 51  SaleType           1460 non-null   int32  \n",
      " 52  SaleCondition      1460 non-null   int32  \n",
      " 53  SalePrice          1460 non-null   int64  \n",
      " 54  Alley_Grvl         1460 non-null   uint8  \n",
      " 55  Alley_Na           1460 non-null   uint8  \n",
      " 56  Alley_Pave         1460 non-null   uint8  \n",
      " 57  LotShape_IR1       1460 non-null   uint8  \n",
      " 58  LotShape_IR2       1460 non-null   uint8  \n",
      " 59  LotShape_IR3       1460 non-null   uint8  \n",
      " 60  LotShape_Reg       1460 non-null   uint8  \n",
      " 61  LandContour_Bnk    1460 non-null   uint8  \n",
      " 62  LandContour_HLS    1460 non-null   uint8  \n",
      " 63  LandContour_Low    1460 non-null   uint8  \n",
      " 64  LandContour_Lvl    1460 non-null   uint8  \n",
      " 65  Utilities_AllPub   1460 non-null   uint8  \n",
      " 66  Utilities_NoSeWa   1460 non-null   uint8  \n",
      " 67  LotConfig_Corner   1460 non-null   uint8  \n",
      " 68  LotConfig_CulDSac  1460 non-null   uint8  \n",
      " 69  LotConfig_FR2      1460 non-null   uint8  \n",
      " 70  LotConfig_FR3      1460 non-null   uint8  \n",
      " 71  LotConfig_Inside   1460 non-null   uint8  \n",
      " 72  LandSlope_Gtl      1460 non-null   uint8  \n",
      " 73  LandSlope_Mod      1460 non-null   uint8  \n",
      " 74  LandSlope_Sev      1460 non-null   uint8  \n",
      " 75  BldgType_1Fam      1460 non-null   uint8  \n",
      " 76  BldgType_2fmCon    1460 non-null   uint8  \n",
      " 77  BldgType_Duplex    1460 non-null   uint8  \n",
      " 78  BldgType_Twnhs     1460 non-null   uint8  \n",
      " 79  BldgType_TwnhsE    1460 non-null   uint8  \n",
      " 80  ExterCond_Ex       1460 non-null   uint8  \n",
      " 81  ExterCond_Fa       1460 non-null   uint8  \n",
      " 82  ExterCond_Gd       1460 non-null   uint8  \n",
      " 83  ExterCond_Po       1460 non-null   uint8  \n",
      " 84  ExterCond_TA       1460 non-null   uint8  \n",
      " 85  YrBltAndRemod      1460 non-null   int64  \n",
      " 86  TotalSF            1460 non-null   int64  \n",
      " 87  Total_sqr_footage  1460 non-null   int64  \n",
      " 88  Total_Bathrooms    1460 non-null   float64\n",
      " 89  Total_porch_sf     1460 non-null   int64  \n",
      "dtypes: float64(4), int32(21), int64(34), uint8(31)\n",
      "memory usage: 608.8 KB\n"
     ]
    }
   ],
   "source": [
    "total_fe = feature_engineering(total)\n",
    "total_fe.info()"
   ]
  },
  {
   "cell_type": "markdown",
   "metadata": {},
   "source": [
    "## Train test split"
   ]
  },
  {
   "cell_type": "code",
   "execution_count": 5,
   "metadata": {},
   "outputs": [
    {
     "name": "stdout",
     "output_type": "stream",
     "text": [
      "Training: ((1095, 89), (1095,))\n",
      "Testing: ((365, 89), (365,))\n"
     ]
    }
   ],
   "source": [
    "target = 'SalePrice'\n",
    "train_size = train.shape[0]\n",
    "Y = total_fe[target]\n",
    "X = total_fe.drop(columns = [target])\n",
    "\n",
    "# training data\n",
    "x_train = np.array(X[: train_size])\n",
    "y_train = np.array(Y[:train_size])\n",
    "\n",
    "# testing data\n",
    "x_test = np.array(X[train_size: ])\n",
    "y_test = np.array(Y[train_size: ])\n",
    "\n",
    "print(f'Training: {x_train.shape, y_train.shape}')\n",
    "print(f'Testing: {x_test.shape, y_test.shape}')"
   ]
  },
  {
   "cell_type": "markdown",
   "metadata": {},
   "source": [
    "## model tuning"
   ]
  },
  {
   "cell_type": "code",
   "execution_count": 6,
   "metadata": {},
   "outputs": [
    {
     "name": "stdout",
     "output_type": "stream",
     "text": [
      "Best score is 21025.0036\n",
      "Best params is {'n_estimators': 74, 'min_samples_split': 3, 'min_impurity_decrease': 0.8284366658388307, 'max_depth': 14, 'criterion': 'mse', 'ccp_alpha': 2.0160852310093356}\n"
     ]
    }
   ],
   "source": [
    "RF = RandomForestRegressor()\n",
    "\n",
    "# set searching hyperparameters\n",
    "search_params = {\n",
    "    'n_estimators': np.arange(20, 101),\n",
    "    'max_depth': np.arange(7, 20),\n",
    "    'ccp_alpha': np.abs(norm(loc = 1.5, scale = 0.5).rvs(size=20)),\n",
    "    'criterion': ['mae', 'mse'],\n",
    "    'min_samples_split': np.arange(2, 8),\n",
    "    'min_impurity_decrease': np.abs(norm(loc = 1, scale = 0.5).rvs(size=30))\n",
    "}\n",
    "\n",
    "# set Successive Halving algorithm\n",
    "SH_search = HRSCV(\n",
    "    estimator = RF, param_distributions = search_params, n_candidates = 80, \n",
    "    factor = 2, resource = 'n_samples', max_resources='auto', min_resources='smallest', \n",
    "    aggressive_elimination=False, cv=3, scoring='neg_mean_absolute_error', refit=True,\n",
    "    return_train_score=True, random_state=None, n_jobs=4, verbose=0\n",
    ")\n",
    "\n",
    "SH_search.fit(x_train, y_train)\n",
    "\n",
    "print(f'Best score is {(-1) * SH_search.best_score_:.4f}')\n",
    "print(f'Best params is {SH_search.best_params_}')"
   ]
  },
  {
   "cell_type": "markdown",
   "metadata": {},
   "source": [
    "## model evaluation"
   ]
  },
  {
   "cell_type": "code",
   "execution_count": 7,
   "metadata": {},
   "outputs": [
    {
     "name": "stdout",
     "output_type": "stream",
     "text": [
      "mse = 908426892.1024\n",
      "mae = 16768.6288\n",
      "rmse = 30140.1210\n",
      "mape = 0.0970\n"
     ]
    }
   ],
   "source": [
    "best_param = SH_search.best_params_.copy()\n",
    "best_param['n_jobs'] = 4\n",
    "\n",
    "RF = RandomForestRegressor(**best_param)\n",
    "\n",
    "RF.fit(x_train, y_train)\n",
    "\n",
    "pred = RF.predict(x_test)\n",
    "regression_report(y_test, pred, True)"
   ]
  },
  {
   "cell_type": "code",
   "execution_count": null,
   "metadata": {},
   "outputs": [],
   "source": []
  }
 ],
 "metadata": {
  "interpreter": {
   "hash": "aee8b7b246df8f9039afb4144a1f6fd8d2ca17a180786b69acc140d282b71a49"
  },
  "kernelspec": {
   "display_name": "Python 3",
   "language": "python",
   "name": "python3"
  },
  "language_info": {
   "codemirror_mode": {
    "name": "ipython",
    "version": 3
   },
   "file_extension": ".py",
   "mimetype": "text/x-python",
   "name": "python",
   "nbconvert_exporter": "python",
   "pygments_lexer": "ipython3",
   "version": "3.8.10"
  }
 },
 "nbformat": 4,
 "nbformat_minor": 2
}
