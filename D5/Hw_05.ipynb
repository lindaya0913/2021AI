{
 "cells": [
  {
   "cell_type": "code",
   "execution_count": 1,
   "metadata": {},
   "outputs": [],
   "source": [
    "import pandas as pd\n",
    "import numpy as np\n",
    "import matplotlib.pyplot as plt\n",
    "\n",
    "from sklearn.model_selection import train_test_split\n",
    "from sklearn.tree import DecisionTreeRegressor\n",
    "from sklearn.metrics import mean_squared_error as MSE\n",
    "from sklearn.metrics import mean_absolute_error as MAE\n",
    "from sklearn.metrics import mean_absolute_percentage_error as MAPE"
   ]
  },
  {
   "cell_type": "markdown",
   "metadata": {},
   "source": [
    "## 解題步驟：\n",
    "\n",
    "1. 讀取 x_train.npy, y_train.npy, x_test.npy, y_test.npy\n",
    "2. 將 training dataset 再切分為 training set, validation set (圖一)\n",
    "3. 先以上課的知識調整出一個不會 over-fitting 太多的決策樹模型\n",
    "4. 以 validation set 作為調整參數的基準，陸續調整其他參數 (請同學測試看看 validation 要佔多少比例，後續的調整會比較客觀)\n",
    "5. 將最終調整結果與一開始的決策樹做比較，誤差是否有降低\n",
    "6. 同學若也懂其他模型的知識也可以試試看一樣的做法比較看看\n",
    "\n",
    "#### 圖一 (Train, Validation and Test)\n",
    "<img src=\"./train_val_test.png\" style=\"zoom:30%;\" />\n",
    "\n",
    "#### 圖二 (是我前後調整的結果)\n",
    "<img src=\"./report.png\" style=\"zoom:30%;\" />"
   ]
  },
  {
   "cell_type": "code",
   "execution_count": 9,
   "metadata": {},
   "outputs": [
    {
     "name": "stdout",
     "output_type": "stream",
     "text": [
      "(1095, 89) (1095,) (365, 89) (365,)\n",
      "(850, 89) (245, 89) (850,) (245,)\n"
     ]
    }
   ],
   "source": [
    "# Read data\n",
    "split_idx = 850\n",
    "x_train = np.load('x_train.npy')\n",
    "y_train = np.load('y_train.npy')\n",
    "x_test = np.load('x_test.npy')\n",
    "y_test = np.load('y_test.npy')\n",
    "print(x_train.shape, y_train.shape, x_test.shape, y_test.shape)\n",
    "x_train1 = x_train[: split_idx]\n",
    "x_validation = x_train[split_idx: ]\n",
    "y_train1 = y_train[: split_idx]\n",
    "y_validation = y_train[split_idx: ]\n",
    "print(x_train1.shape, x_validation.shape, y_train1.shape, y_validation.shape)"
   ]
  },
  {
   "cell_type": "markdown",
   "metadata": {},
   "source": [
    "## 請同學先依照上課的知識，調整一個沒有 overfitting 的決策樹，請以 mape 作為參考誤差指標，較容易看出關係"
   ]
  },
  {
   "cell_type": "code",
   "execution_count": 18,
   "metadata": {},
   "outputs": [
    {
     "data": {
      "text/plain": [
       "DecisionTreeRegressor()"
      ]
     },
     "execution_count": 18,
     "metadata": {},
     "output_type": "execute_result"
    }
   ],
   "source": [
    "RF = DecisionTreeRegressor(criterion='mse', splitter='best', max_depth=None, min_samples_split=2, min_samples_leaf=1, \n",
    "                           min_weight_fraction_leaf=0.0, max_features=None, random_state=None, max_leaf_nodes=None, \n",
    "                           min_impurity_decrease=0.0, min_impurity_split=None, ccp_alpha=0.0)\n",
    "RF.fit(x_train, y_train)"
   ]
  },
  {
   "cell_type": "markdown",
   "metadata": {},
   "source": [
    "## 調整 決策樹參數\n",
    "### 請同學從 criterion 的設定中，判斷這組資料集裡的 outlier 多嗎？"
   ]
  },
  {
   "cell_type": "code",
   "execution_count": 27,
   "metadata": {},
   "outputs": [
    {
     "name": "stdout",
     "output_type": "stream",
     "text": [
      "mse= 2632310761.183562 mse= 0.0\n",
      "mae= 28400.92602739726 mae= 0.0\n",
      "mape= 0.15207160251939653 mape= 0.0\n"
     ]
    }
   ],
   "source": [
    "pred1 = RF.predict(x_test)\n",
    "pred2 = RF.predict(x_train)\n",
    "print(\"mse=\",MSE(y_test, pred1), \"mse=\",MSE(y_train, pred2))\n",
    "print(\"mae=\",MAE(y_test, pred1), \"mae=\",MAE(y_train, pred2))\n",
    "print(\"mape=\",MAPE(y_test, pred1), \"mape=\",MAPE(y_train, pred2))"
   ]
  },
  {
   "cell_type": "code",
   "execution_count": null,
   "metadata": {},
   "outputs": [],
   "source": []
  }
 ],
 "metadata": {
  "interpreter": {
   "hash": "aee8b7b246df8f9039afb4144a1f6fd8d2ca17a180786b69acc140d282b71a49"
  },
  "kernelspec": {
   "display_name": "Python 3",
   "language": "python",
   "name": "python3"
  },
  "language_info": {
   "codemirror_mode": {
    "name": "ipython",
    "version": 3
   },
   "file_extension": ".py",
   "mimetype": "text/x-python",
   "name": "python",
   "nbconvert_exporter": "python",
   "pygments_lexer": "ipython3",
   "version": "3.8.10"
  }
 },
 "nbformat": 4,
 "nbformat_minor": 2
}
