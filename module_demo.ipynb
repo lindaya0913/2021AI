{
 "cells": [
  {
   "cell_type": "code",
   "execution_count": 1,
   "id": "under-navigator",
   "metadata": {},
   "outputs": [],
   "source": [
    "import numpy as np\n",
    "import pandas as pd"
   ]
  },
  {
   "cell_type": "markdown",
   "id": "24dd5048",
   "metadata": {},
   "source": [
    "# Numpy 教學\n",
    "## 1. Numpy array 建立"
   ]
  },
  {
   "cell_type": "code",
   "execution_count": 2,
   "id": "9d365e2d",
   "metadata": {},
   "outputs": [
    {
     "name": "stdout",
     "output_type": "stream",
     "text": [
      "[[0. 0. 0.]\n",
      " [0. 0. 0.]\n",
      " [0. 0. 0.]]\n",
      "\n",
      "[[1. 1. 1.]\n",
      " [1. 1. 1.]\n",
      " [1. 1. 1.]]\n",
      "\n",
      "[[0.00000000e+000 0.00000000e+000 0.00000000e+000]\n",
      " [0.00000000e+000 0.00000000e+000 5.11852009e-321]\n",
      " [2.46600324e-154 4.47593775e-091 5.98149672e-154]]\n",
      "\n",
      "[0 3 6 9]\n",
      "\n",
      "[ 0.  6. 12.]\n",
      "\n",
      "[0. 0. 0. 0. 0. 0. 0. 0. 0.]\n"
     ]
    }
   ],
   "source": [
    "Zeros = np.zeros((3, 3))\n",
    "Ones = np.ones((3, 3))\n",
    "Empty = np.empty((3, 3))\n",
    "Arange = np.arange(0, 12, 3)\n",
    "Line = np.linspace(0, 12, 3)\n",
    "Reshape = Zeros.reshape(-1)\n",
    "print(Zeros, Ones, Empty, Arange, Line, Reshape, sep = '\\n\\n')"
   ]
  },
  {
   "cell_type": "markdown",
   "id": "d7607139",
   "metadata": {},
   "source": [
    "## 2. Numpy 計算"
   ]
  },
  {
   "cell_type": "code",
   "execution_count": 3,
   "id": "3ea2642d",
   "metadata": {},
   "outputs": [
    {
     "name": "stdout",
     "output_type": "stream",
     "text": [
      "[[ 0  1  2  3]\n",
      " [ 4  5  6  7]\n",
      " [ 8  9 10 11]] \n",
      "\n",
      "sum1, sum2, sum3, sum4, sum5 = ([12 15 18 21], [ 6 22 38], 66, 66, 66)\n"
     ]
    }
   ],
   "source": [
    "arr = np.arange(0, 12).reshape((3, 4))\n",
    "sum1 = np.sum(arr, axis = 0)\n",
    "sum2 = np.sum(arr, axis = 1)\n",
    "sum3 = np.sum(arr, axis = (0, 1))\n",
    "sum4 = np.sum(arr, axis = (1, 0))\n",
    "sum5 = np.sum(arr)\n",
    "print(arr, '\\n')\n",
    "print(f'sum1, sum2, sum3, sum4, sum5 = ({sum1}, {sum2}, {sum3}, {sum4}, {sum5})')"
   ]
  },
  {
   "cell_type": "code",
   "execution_count": 4,
   "id": "9a43e4b3",
   "metadata": {},
   "outputs": [
    {
     "name": "stdout",
     "output_type": "stream",
     "text": [
      "[24 30 36 42]\n",
      "\n",
      "[0 0 0 0]\n",
      "\n",
      "[36 45 54 63]\n",
      "\n",
      "[ 6.   7.5  9.  10.5]\n"
     ]
    }
   ],
   "source": [
    "print(sum1 + sum1, sum1 - sum1, sum1 * 3, sum1 / 2, sep = '\\n\\n')\n",
    "# sum1 + sum2"
   ]
  },
  {
   "cell_type": "code",
   "execution_count": 5,
   "id": "8ecf3cb4",
   "metadata": {},
   "outputs": [
    {
     "name": "stdout",
     "output_type": "stream",
     "text": [
      "[[False False False False]\n",
      " [False  True False False]\n",
      " [False False False False]]\n",
      "\n",
      "[[False False False False]\n",
      " [False False  True  True]\n",
      " [ True  True  True  True]]\n",
      "\n",
      "[[ True  True  True  True]\n",
      " [ True False False False]\n",
      " [False False False False]]\n"
     ]
    }
   ],
   "source": [
    "print(arr == 5, arr > 5, arr <5, sep = '\\n\\n')"
   ]
  },
  {
   "cell_type": "markdown",
   "id": "4e277e1d",
   "metadata": {},
   "source": [
    "## 3. Numpy IO"
   ]
  },
  {
   "cell_type": "code",
   "execution_count": 6,
   "id": "7b94d8d4",
   "metadata": {},
   "outputs": [],
   "source": [
    "np.save('arr.npy', arr)\n",
    "arr = np.load('arr.npy')"
   ]
  },
  {
   "cell_type": "markdown",
   "id": "9eb9325c",
   "metadata": {},
   "source": [
    "# Pandas 教學\n",
    "## 1. Pandas 型別\n",
    "* Series\n",
    "* Dataframe"
   ]
  },
  {
   "cell_type": "code",
   "execution_count": 7,
   "id": "4f8d9c99",
   "metadata": {},
   "outputs": [
    {
     "name": "stdout",
     "output_type": "stream",
     "text": [
      "0    12\n",
      "1    15\n",
      "2    18\n",
      "3    21\n",
      "dtype: int32\n",
      "\n",
      "0    1\n",
      "1    2\n",
      "2    3\n",
      "3    4\n",
      "dtype: int64\n"
     ]
    }
   ],
   "source": [
    "# ------------- Series -------------\n",
    "\n",
    "# From numpy array\n",
    "series1 = pd.Series(sum1)\n",
    "\n",
    "# From Python's list\n",
    "series2 = pd.Series([1, 2, 3, 4])\n",
    "\n",
    "print(series1, series2, sep = '\\n\\n')"
   ]
  },
  {
   "cell_type": "code",
   "execution_count": 8,
   "id": "28f0bc00",
   "metadata": {},
   "outputs": [
    {
     "name": "stdout",
     "output_type": "stream",
     "text": [
      "                col0      col1      col2      col3\n",
      "2021-01-01  0.389247  2.672891 -0.423461  0.284688\n",
      "2021-01-02  1.138336  0.735363 -0.744718 -0.191010\n",
      "2021-01-03 -1.260030  0.393373  0.592346 -0.186350\n",
      "2021-01-04  0.319281  0.791297 -0.490501  0.061331\n",
      "2021-01-05  0.335734 -0.386365 -1.347404  1.166252\n",
      "2021-01-06  0.343221  0.351542  0.562547 -1.815466 \n",
      "\n",
      "DatetimeIndex(['2021-01-01', '2021-01-02', '2021-01-03', '2021-01-04',\n",
      "               '2021-01-05', '2021-01-06'],\n",
      "              dtype='datetime64[ns]', freq='D')\n",
      "\n",
      "Index(['col0', 'col1', 'col2', 'col3'], dtype='object')\n",
      "\n",
      "           col0      col1      col2      col3\n",
      "count  6.000000  6.000000  6.000000  6.000000\n",
      "mean   0.210965  0.759683 -0.308532 -0.113426\n",
      "std    0.787454  1.027243  0.759762  0.973128\n",
      "min   -1.260030 -0.386365 -1.347404 -1.815466\n",
      "25%    0.323394  0.362000 -0.681164 -0.189845\n",
      "50%    0.339477  0.564368 -0.456981 -0.062509\n",
      "75%    0.377740  0.777313  0.316045  0.228849\n",
      "max    1.138336  2.672891  0.592346  1.166252\n"
     ]
    }
   ],
   "source": [
    "# ------------- Dataframe -------------\n",
    "dates = pd.date_range('20210101',periods = 6)\n",
    "df = pd.DataFrame(np.random.randn(6, 4), index=dates, columns = [f\"col{i}\" for i in range(4)])\n",
    "print(df, '\\n')\n",
    "print(df.index, df.columns, df.describe(), sep = '\\n\\n')"
   ]
  },
  {
   "cell_type": "markdown",
   "id": "41e9b876",
   "metadata": {},
   "source": [
    "## 2. 索引\n",
    "* simple\n",
    "* loc\n",
    "* iloc\n",
    "* ix(deprecated in 0.20.0 version)"
   ]
  },
  {
   "cell_type": "code",
   "execution_count": 9,
   "id": "ff3fc4c1",
   "metadata": {},
   "outputs": [
    {
     "name": "stdout",
     "output_type": "stream",
     "text": [
      "------- simple demo -------\n",
      "2021-01-01    2.672891\n",
      "2021-01-02    0.735363\n",
      "2021-01-03    0.393373\n",
      "2021-01-04    0.791297\n",
      "2021-01-05   -0.386365\n",
      "2021-01-06    0.351542\n",
      "Freq: D, Name: col1, dtype: float64\n",
      "\n",
      "                col1      col2\n",
      "2021-01-01  2.672891 -0.423461\n",
      "2021-01-02  0.735363 -0.744718\n",
      "2021-01-03  0.393373  0.592346\n",
      "2021-01-04  0.791297 -0.490501\n",
      "2021-01-05 -0.386365 -1.347404\n",
      "2021-01-06  0.351542  0.562547\n",
      "\n",
      "2021-01-01    2.672891\n",
      "2021-01-02    0.735363\n",
      "Freq: D, Name: col1, dtype: float64\n",
      "\n",
      "2021-01-01    2.672891\n",
      "2021-01-02    0.735363\n",
      "Freq: D, Name: col1, dtype: float64\n",
      "\n",
      "------- loc demo -------\n",
      "2021-01-01    2.672891\n",
      "2021-01-02    0.735363\n",
      "Freq: D, Name: col1, dtype: float64\n",
      "\n",
      "------- iloc demo -------\n",
      "                col0      col1      col2      col3\n",
      "2021-01-01  0.389247  2.672891 -0.423461  0.284688\n",
      "2021-01-02  1.138336  0.735363 -0.744718 -0.191010\n",
      "\n"
     ]
    }
   ],
   "source": [
    "# simple(順序沒差)\n",
    "print('------- simple demo -------')\n",
    "print(df['col1'], df[['col1', 'col2']], df[:'2021-01-02']['col1'], df['col1'][:'2021-01-02'], sep = '\\n\\n')\n",
    "print()\n",
    "\n",
    "# loc (先 row 後 column)\n",
    "print('------- loc demo -------')\n",
    "print(df.loc[:'2021-01-02']['col1'], sep = '\\n\\n')\n",
    "print()\n",
    "# df['col1']\n",
    "\n",
    "# iloc (先 row 後 column)\n",
    "print('------- iloc demo -------')\n",
    "print(df.iloc[:2][:3], sep = '\\n\\n')\n",
    "print()\n",
    "\n",
    "# !! ix had deprecated in Pandas == 0.20.0 !!\n",
    "# ix (先 row 後 column)\n",
    "# print(df.ix[:2][:col3], sep = '\\n\\n')\n",
    "# print()\n"
   ]
  },
  {
   "cell_type": "markdown",
   "id": "24320773",
   "metadata": {},
   "source": [
    "## 3. 合併與連接\n",
    "- pandas.concat\n",
    "- pandas.merge"
   ]
  },
  {
   "cell_type": "code",
   "execution_count": 10,
   "id": "51e91daa",
   "metadata": {},
   "outputs": [
    {
     "name": "stdout",
     "output_type": "stream",
     "text": [
      "df: \n",
      "                col0      col1      col2      col3\n",
      "2021-01-01  0.389247  2.672891 -0.423461  0.284688\n",
      "2021-01-02  1.138336  0.735363 -0.744718 -0.191010\n",
      "2021-01-03 -1.260030  0.393373  0.592346 -0.186350\n",
      "2021-01-04  0.319281  0.791297 -0.490501  0.061331\n",
      "2021-01-05  0.335734 -0.386365 -1.347404  1.166252\n",
      "2021-01-06  0.343221  0.351542  0.562547 -1.815466\n",
      "\n",
      "tmp: \n",
      "                col2      col3      col4      col5\n",
      "2021-01-01  0.112921  0.968978 -0.427311 -0.265568\n",
      "2021-01-02 -0.300447 -0.186672  1.255382  1.379092\n",
      "2021-01-03 -0.308274  0.042361 -0.139584 -0.470782\n",
      "2021-01-04 -0.390318  0.041332 -1.505120  1.192882\n",
      "2021-01-05 -0.911402  1.236349  0.182561  0.434086\n",
      "2021-01-06  0.755051 -0.638576  0.394323  0.229014\n",
      "\n",
      "------- axis demo -------\n",
      "axis = 1: \n",
      "                col0      col1      col2      col3      col2      col3  \\\n",
      "2021-01-01  0.389247  2.672891 -0.423461  0.284688  0.112921  0.968978   \n",
      "2021-01-02  1.138336  0.735363 -0.744718 -0.191010 -0.300447 -0.186672   \n",
      "2021-01-03 -1.260030  0.393373  0.592346 -0.186350 -0.308274  0.042361   \n",
      "2021-01-04  0.319281  0.791297 -0.490501  0.061331 -0.390318  0.041332   \n",
      "2021-01-05  0.335734 -0.386365 -1.347404  1.166252 -0.911402  1.236349   \n",
      "2021-01-06  0.343221  0.351542  0.562547 -1.815466  0.755051 -0.638576   \n",
      "\n",
      "                col4      col5  \n",
      "2021-01-01 -0.427311 -0.265568  \n",
      "2021-01-02  1.255382  1.379092  \n",
      "2021-01-03 -0.139584 -0.470782  \n",
      "2021-01-04 -1.505120  1.192882  \n",
      "2021-01-05  0.182561  0.434086  \n",
      "2021-01-06  0.394323  0.229014  \n",
      "\n",
      "axis = 0: \n",
      "                col0      col1      col2      col3      col4      col5\n",
      "2021-01-01  0.389247  2.672891 -0.423461  0.284688       NaN       NaN\n",
      "2021-01-02  1.138336  0.735363 -0.744718 -0.191010       NaN       NaN\n",
      "2021-01-03 -1.260030  0.393373  0.592346 -0.186350       NaN       NaN\n",
      "2021-01-04  0.319281  0.791297 -0.490501  0.061331       NaN       NaN\n",
      "2021-01-05  0.335734 -0.386365 -1.347404  1.166252       NaN       NaN\n",
      "2021-01-06  0.343221  0.351542  0.562547 -1.815466       NaN       NaN\n",
      "2021-01-01       NaN       NaN  0.112921  0.968978 -0.427311 -0.265568\n",
      "2021-01-02       NaN       NaN -0.300447 -0.186672  1.255382  1.379092\n",
      "2021-01-03       NaN       NaN -0.308274  0.042361 -0.139584 -0.470782\n",
      "2021-01-04       NaN       NaN -0.390318  0.041332 -1.505120  1.192882\n",
      "2021-01-05       NaN       NaN -0.911402  1.236349  0.182561  0.434086\n",
      "2021-01-06       NaN       NaN  0.755051 -0.638576  0.394323  0.229014\n",
      "\n",
      "------- join demo --------\n",
      "join = outer: \n",
      "                col0      col1      col2      col3      col4      col5\n",
      "2021-01-01  0.389247  2.672891 -0.423461  0.284688       NaN       NaN\n",
      "2021-01-02  1.138336  0.735363 -0.744718 -0.191010       NaN       NaN\n",
      "2021-01-03 -1.260030  0.393373  0.592346 -0.186350       NaN       NaN\n",
      "2021-01-04  0.319281  0.791297 -0.490501  0.061331       NaN       NaN\n",
      "2021-01-05  0.335734 -0.386365 -1.347404  1.166252       NaN       NaN\n",
      "2021-01-06  0.343221  0.351542  0.562547 -1.815466       NaN       NaN\n",
      "2021-01-01       NaN       NaN  0.112921  0.968978 -0.427311 -0.265568\n",
      "2021-01-02       NaN       NaN -0.300447 -0.186672  1.255382  1.379092\n",
      "2021-01-03       NaN       NaN -0.308274  0.042361 -0.139584 -0.470782\n",
      "2021-01-04       NaN       NaN -0.390318  0.041332 -1.505120  1.192882\n",
      "2021-01-05       NaN       NaN -0.911402  1.236349  0.182561  0.434086\n",
      "2021-01-06       NaN       NaN  0.755051 -0.638576  0.394323  0.229014\n",
      "\n",
      "join = inner: \n",
      "                col2      col3\n",
      "2021-01-01 -0.423461  0.284688\n",
      "2021-01-02 -0.744718 -0.191010\n",
      "2021-01-03  0.592346 -0.186350\n",
      "2021-01-04 -0.490501  0.061331\n",
      "2021-01-05 -1.347404  1.166252\n",
      "2021-01-06  0.562547 -1.815466\n",
      "2021-01-01  0.112921  0.968978\n",
      "2021-01-02 -0.300447 -0.186672\n",
      "2021-01-03 -0.308274  0.042361\n",
      "2021-01-04 -0.390318  0.041332\n",
      "2021-01-05 -0.911402  1.236349\n",
      "2021-01-06  0.755051 -0.638576\n",
      "\n"
     ]
    }
   ],
   "source": [
    "# ------------- concat demo -------------\n",
    "dates = pd.date_range('20210101',periods = 6)\n",
    "tmp = pd.DataFrame(np.random.randn(6, 4), index=dates, columns = [f\"col{i}\" for i in range(2, 6)])\n",
    "print(f'df: \\n{df}\\n')\n",
    "print(f'tmp: \\n{tmp}\\n')\n",
    "\n",
    "# ------- axis demo -------\n",
    "print('------- axis demo -------')\n",
    "df1 = pd.concat([df, tmp], axis = 1)\n",
    "df2 = pd.concat([df, tmp], axis = 0)\n",
    "print(f'axis = 1: \\n{df1}\\n')\n",
    "print(f'axis = 0: \\n{df2}\\n')\n",
    "\n",
    "# ------- join demo -------\n",
    "print('------- join demo --------')\n",
    "df1 = pd.concat([df, tmp], join = 'outer') # 聯集\n",
    "df2 = pd.concat([df, tmp], join = 'inner') # 交集\n",
    "print(f'join = outer: \\n{df1}\\n')\n",
    "print(f'join = inner: \\n{df2}\\n')"
   ]
  },
  {
   "cell_type": "code",
   "execution_count": 11,
   "id": "887da6e5",
   "metadata": {},
   "outputs": [
    {
     "name": "stdout",
     "output_type": "stream",
     "text": [
      "left:\n",
      "  key1 key2   A   B\n",
      "0   K0   K0  A0  B0\n",
      "1   K0   K1  A1  B1\n",
      "2   K1   K0  A2  B2\n",
      "3   K2   K1  A3  B3\n",
      "\n",
      "right:\n",
      "  key1 key2   C   D\n",
      "0   K0   K0  C0  D0\n",
      "1   K1   K0  C1  D1\n",
      "2   K1   K0  C2  D2\n",
      "3   K2   K0  C3  D3\n",
      "\n",
      "how = inner:\n",
      "  key1 key2   A   B   C   D\n",
      "0   K0   K0  A0  B0  C0  D0\n",
      "1   K1   K0  A2  B2  C1  D1\n",
      "2   K1   K0  A2  B2  C2  D2\n",
      "\n",
      "how = outer:\n",
      "  key1 key2    A    B    C    D\n",
      "0   K0   K0   A0   B0   C0   D0\n",
      "1   K0   K1   A1   B1  NaN  NaN\n",
      "2   K1   K0   A2   B2   C1   D1\n",
      "3   K1   K0   A2   B2   C2   D2\n",
      "4   K2   K1   A3   B3  NaN  NaN\n",
      "5   K2   K0  NaN  NaN   C3   D3\n",
      "\n",
      "how = left:\n",
      "  key1 key2   A   B    C    D\n",
      "0   K0   K0  A0  B0   C0   D0\n",
      "1   K0   K1  A1  B1  NaN  NaN\n",
      "2   K1   K0  A2  B2   C1   D1\n",
      "3   K1   K0  A2  B2   C2   D2\n",
      "4   K2   K1  A3  B3  NaN  NaN\n",
      "\n",
      "how = right:\n",
      "  key1 key2    A    B   C   D\n",
      "0   K0   K0   A0   B0  C0  D0\n",
      "1   K1   K0   A2   B2  C1  D1\n",
      "2   K1   K0   A2   B2  C2  D2\n",
      "3   K2   K0  NaN  NaN  C3  D3\n",
      "\n"
     ]
    }
   ],
   "source": [
    "# ------- merge -------\n",
    "left = pd.DataFrame({'key1': ['K0', 'K0', 'K1', 'K2'],\n",
    "                      'key2': ['K0', 'K1', 'K0', 'K1'],\n",
    "                      'A': ['A0', 'A1', 'A2', 'A3'],\n",
    "                      'B': ['B0', 'B1', 'B2', 'B3']})\n",
    "right = pd.DataFrame({'key1': ['K0', 'K1', 'K1', 'K2'],\n",
    "                       'key2': ['K0', 'K0', 'K0', 'K0'],\n",
    "                       'C': ['C0', 'C1', 'C2', 'C3'],\n",
    "                       'D': ['D0', 'D1', 'D2', 'D3']})\n",
    "\n",
    "print(f'left:\\n{left}\\n')\n",
    "\n",
    "\n",
    "print(f'right:\\n{right}\\n')\n",
    "\n",
    "# -------- demo how -------\n",
    "res = pd.merge(left, right, on=['key1', 'key2'], how='inner')\n",
    "print(f'how = inner:\\n{res}\\n')\n",
    "\n",
    "res = pd.merge(left, right, on=['key1', 'key2'], how='outer')\n",
    "print(f'how = outer:\\n{res}\\n')\n",
    "\n",
    "res = pd.merge(left, right, on=['key1', 'key2'], how='left')\n",
    "print(f'how = left:\\n{res}\\n')\n",
    "\n",
    "res = pd.merge(left, right, on=['key1', 'key2'], how='right')\n",
    "print(f'how = right:\\n{res}\\n')"
   ]
  },
  {
   "cell_type": "markdown",
   "id": "37d144a5",
   "metadata": {},
   "source": [
    "## 4. 統計函數"
   ]
  },
  {
   "cell_type": "code",
   "execution_count": 12,
   "id": "a277a0d8",
   "metadata": {},
   "outputs": [
    {
     "name": "stdout",
     "output_type": "stream",
     "text": [
      "------- 平均數 -------\n",
      "mean: \n",
      "a   -0.034391\n",
      "b    0.189421\n",
      "c   -0.064412\n",
      "d   -0.127408\n",
      "e    0.168284\n",
      "dtype: float64\n",
      "\n",
      "------- 標準差 -------\n",
      "std: \n",
      "a    0.871396\n",
      "b    0.879194\n",
      "c    0.592128\n",
      "d    0.953212\n",
      "e    0.475951\n",
      "dtype: float64\n",
      "\n",
      "------- 共變異數 -------\n",
      "Cov(a, b) = 0.19876609993619887\n",
      "\n",
      "Cov(all): \n",
      "          a         b         c         d         e\n",
      "a  0.759331  0.198766 -0.197810 -0.616806 -0.032563\n",
      "b  0.198766  0.772983 -0.334733 -0.412980  0.056339\n",
      "c -0.197810 -0.334733  0.350616  0.247575  0.052164\n",
      "d -0.616806 -0.412980  0.247575  0.908613 -0.020683\n",
      "e -0.032563  0.056339  0.052164 -0.020683  0.226530\n",
      "\n",
      "------- 相關係數 -------\n",
      "Corr(a, b) = 0.25944288890836653\n",
      "\n",
      "Corr(all): \n",
      "          a         b         c         d         e\n",
      "a  1.000000  0.259443 -0.383368 -0.742580 -0.078514\n",
      "b  0.259443  1.000000 -0.642980 -0.492781  0.134635\n",
      "c -0.383368 -0.642980  1.000000  0.438633  0.185094\n",
      "d -0.742580 -0.492781  0.438633  1.000000 -0.045590\n",
      "e -0.078514  0.134635  0.185094 -0.045590  1.000000\n",
      "\n"
     ]
    }
   ],
   "source": [
    "df = pd.DataFrame(np.random.randn(10, 5), columns=[\"a\", \"b\", \"c\", \"d\", \"e\"])\n",
    "\n",
    "# ------- 平均數 -------\n",
    "print('------- 平均數 -------')\n",
    "print (f\"mean: \\n{df.mean()}\\n\")\n",
    "\n",
    "# ------- 標準差 -------\n",
    "print('------- 標準差 -------')\n",
    "print (f\"std: \\n{df.std()}\\n\")\n",
    "\n",
    "# ------- 共變異數 -------\n",
    "print('------- 共變異數 -------')\n",
    "\n",
    "# Cov(a, b)\n",
    "print (f\"Cov(a, b) = {df['a'].cov(df['b'])}\\n\")\n",
    "\n",
    "# Cov(all)\n",
    "print (f\"Cov(all): \\n{df.cov()}\\n\")\n",
    "\n",
    "# ------- 相關係數 -------\n",
    "print('------- 相關係數 -------')\n",
    "# Corr(a, b)\n",
    "print (f\"Corr(a, b) = {df['a'].corr(df['b'])}\\n\")\n",
    "\n",
    "# Corr(all)\n",
    "print (f\"Corr(all): \\n{df.corr()}\\n\")\n",
    "\n"
   ]
  },
  {
   "cell_type": "markdown",
   "id": "37dcf7b3",
   "metadata": {},
   "source": [
    "## 5. 其他\n",
    "- IO(Input & Output)\n",
    "- Something about nan"
   ]
  },
  {
   "cell_type": "code",
   "execution_count": 13,
   "id": "404bb9de",
   "metadata": {},
   "outputs": [
    {
     "ename": "FileNotFoundError",
     "evalue": "[Errno 2] No such file or directory: 'homework.csv'",
     "output_type": "error",
     "traceback": [
      "\u001b[1;31m---------------------------------------------------------------------------\u001b[0m",
      "\u001b[1;31mFileNotFoundError\u001b[0m                         Traceback (most recent call last)",
      "\u001b[1;32m<ipython-input-13-24c430c9df87>\u001b[0m in \u001b[0;36m<module>\u001b[1;34m\u001b[0m\n\u001b[0;32m      1\u001b[0m \u001b[1;31m# -------- IO -------\u001b[0m\u001b[1;33m\u001b[0m\u001b[1;33m\u001b[0m\u001b[1;33m\u001b[0m\u001b[0m\n\u001b[1;32m----> 2\u001b[1;33m \u001b[0mdf\u001b[0m \u001b[1;33m=\u001b[0m \u001b[0mpd\u001b[0m\u001b[1;33m.\u001b[0m\u001b[0mread_csv\u001b[0m\u001b[1;33m(\u001b[0m\u001b[1;34m'homework.csv'\u001b[0m\u001b[1;33m)\u001b[0m\u001b[1;33m\u001b[0m\u001b[1;33m\u001b[0m\u001b[0m\n\u001b[0m\u001b[0;32m      3\u001b[0m \u001b[1;31m# df.to_csv(index = False)\u001b[0m\u001b[1;33m\u001b[0m\u001b[1;33m\u001b[0m\u001b[1;33m\u001b[0m\u001b[0m\n",
      "\u001b[1;32m~\\Anaconda3\\lib\\site-packages\\pandas\\io\\parsers.py\u001b[0m in \u001b[0;36mread_csv\u001b[1;34m(filepath_or_buffer, sep, delimiter, header, names, index_col, usecols, squeeze, prefix, mangle_dupe_cols, dtype, engine, converters, true_values, false_values, skipinitialspace, skiprows, skipfooter, nrows, na_values, keep_default_na, na_filter, verbose, skip_blank_lines, parse_dates, infer_datetime_format, keep_date_col, date_parser, dayfirst, cache_dates, iterator, chunksize, compression, thousands, decimal, lineterminator, quotechar, quoting, doublequote, escapechar, comment, encoding, dialect, error_bad_lines, warn_bad_lines, delim_whitespace, low_memory, memory_map, float_precision, storage_options)\u001b[0m\n\u001b[0;32m    608\u001b[0m     \u001b[0mkwds\u001b[0m\u001b[1;33m.\u001b[0m\u001b[0mupdate\u001b[0m\u001b[1;33m(\u001b[0m\u001b[0mkwds_defaults\u001b[0m\u001b[1;33m)\u001b[0m\u001b[1;33m\u001b[0m\u001b[1;33m\u001b[0m\u001b[0m\n\u001b[0;32m    609\u001b[0m \u001b[1;33m\u001b[0m\u001b[0m\n\u001b[1;32m--> 610\u001b[1;33m     \u001b[1;32mreturn\u001b[0m \u001b[0m_read\u001b[0m\u001b[1;33m(\u001b[0m\u001b[0mfilepath_or_buffer\u001b[0m\u001b[1;33m,\u001b[0m \u001b[0mkwds\u001b[0m\u001b[1;33m)\u001b[0m\u001b[1;33m\u001b[0m\u001b[1;33m\u001b[0m\u001b[0m\n\u001b[0m\u001b[0;32m    611\u001b[0m \u001b[1;33m\u001b[0m\u001b[0m\n\u001b[0;32m    612\u001b[0m \u001b[1;33m\u001b[0m\u001b[0m\n",
      "\u001b[1;32m~\\Anaconda3\\lib\\site-packages\\pandas\\io\\parsers.py\u001b[0m in \u001b[0;36m_read\u001b[1;34m(filepath_or_buffer, kwds)\u001b[0m\n\u001b[0;32m    460\u001b[0m \u001b[1;33m\u001b[0m\u001b[0m\n\u001b[0;32m    461\u001b[0m     \u001b[1;31m# Create the parser.\u001b[0m\u001b[1;33m\u001b[0m\u001b[1;33m\u001b[0m\u001b[1;33m\u001b[0m\u001b[0m\n\u001b[1;32m--> 462\u001b[1;33m     \u001b[0mparser\u001b[0m \u001b[1;33m=\u001b[0m \u001b[0mTextFileReader\u001b[0m\u001b[1;33m(\u001b[0m\u001b[0mfilepath_or_buffer\u001b[0m\u001b[1;33m,\u001b[0m \u001b[1;33m**\u001b[0m\u001b[0mkwds\u001b[0m\u001b[1;33m)\u001b[0m\u001b[1;33m\u001b[0m\u001b[1;33m\u001b[0m\u001b[0m\n\u001b[0m\u001b[0;32m    463\u001b[0m \u001b[1;33m\u001b[0m\u001b[0m\n\u001b[0;32m    464\u001b[0m     \u001b[1;32mif\u001b[0m \u001b[0mchunksize\u001b[0m \u001b[1;32mor\u001b[0m \u001b[0miterator\u001b[0m\u001b[1;33m:\u001b[0m\u001b[1;33m\u001b[0m\u001b[1;33m\u001b[0m\u001b[0m\n",
      "\u001b[1;32m~\\Anaconda3\\lib\\site-packages\\pandas\\io\\parsers.py\u001b[0m in \u001b[0;36m__init__\u001b[1;34m(self, f, engine, **kwds)\u001b[0m\n\u001b[0;32m    817\u001b[0m             \u001b[0mself\u001b[0m\u001b[1;33m.\u001b[0m\u001b[0moptions\u001b[0m\u001b[1;33m[\u001b[0m\u001b[1;34m\"has_index_names\"\u001b[0m\u001b[1;33m]\u001b[0m \u001b[1;33m=\u001b[0m \u001b[0mkwds\u001b[0m\u001b[1;33m[\u001b[0m\u001b[1;34m\"has_index_names\"\u001b[0m\u001b[1;33m]\u001b[0m\u001b[1;33m\u001b[0m\u001b[1;33m\u001b[0m\u001b[0m\n\u001b[0;32m    818\u001b[0m \u001b[1;33m\u001b[0m\u001b[0m\n\u001b[1;32m--> 819\u001b[1;33m         \u001b[0mself\u001b[0m\u001b[1;33m.\u001b[0m\u001b[0m_engine\u001b[0m \u001b[1;33m=\u001b[0m \u001b[0mself\u001b[0m\u001b[1;33m.\u001b[0m\u001b[0m_make_engine\u001b[0m\u001b[1;33m(\u001b[0m\u001b[0mself\u001b[0m\u001b[1;33m.\u001b[0m\u001b[0mengine\u001b[0m\u001b[1;33m)\u001b[0m\u001b[1;33m\u001b[0m\u001b[1;33m\u001b[0m\u001b[0m\n\u001b[0m\u001b[0;32m    820\u001b[0m \u001b[1;33m\u001b[0m\u001b[0m\n\u001b[0;32m    821\u001b[0m     \u001b[1;32mdef\u001b[0m \u001b[0mclose\u001b[0m\u001b[1;33m(\u001b[0m\u001b[0mself\u001b[0m\u001b[1;33m)\u001b[0m\u001b[1;33m:\u001b[0m\u001b[1;33m\u001b[0m\u001b[1;33m\u001b[0m\u001b[0m\n",
      "\u001b[1;32m~\\Anaconda3\\lib\\site-packages\\pandas\\io\\parsers.py\u001b[0m in \u001b[0;36m_make_engine\u001b[1;34m(self, engine)\u001b[0m\n\u001b[0;32m   1048\u001b[0m             )\n\u001b[0;32m   1049\u001b[0m         \u001b[1;31m# error: Too many arguments for \"ParserBase\"\u001b[0m\u001b[1;33m\u001b[0m\u001b[1;33m\u001b[0m\u001b[1;33m\u001b[0m\u001b[0m\n\u001b[1;32m-> 1050\u001b[1;33m         \u001b[1;32mreturn\u001b[0m \u001b[0mmapping\u001b[0m\u001b[1;33m[\u001b[0m\u001b[0mengine\u001b[0m\u001b[1;33m]\u001b[0m\u001b[1;33m(\u001b[0m\u001b[0mself\u001b[0m\u001b[1;33m.\u001b[0m\u001b[0mf\u001b[0m\u001b[1;33m,\u001b[0m \u001b[1;33m**\u001b[0m\u001b[0mself\u001b[0m\u001b[1;33m.\u001b[0m\u001b[0moptions\u001b[0m\u001b[1;33m)\u001b[0m  \u001b[1;31m# type: ignore[call-arg]\u001b[0m\u001b[1;33m\u001b[0m\u001b[1;33m\u001b[0m\u001b[0m\n\u001b[0m\u001b[0;32m   1051\u001b[0m \u001b[1;33m\u001b[0m\u001b[0m\n\u001b[0;32m   1052\u001b[0m     \u001b[1;32mdef\u001b[0m \u001b[0m_failover_to_python\u001b[0m\u001b[1;33m(\u001b[0m\u001b[0mself\u001b[0m\u001b[1;33m)\u001b[0m\u001b[1;33m:\u001b[0m\u001b[1;33m\u001b[0m\u001b[1;33m\u001b[0m\u001b[0m\n",
      "\u001b[1;32m~\\Anaconda3\\lib\\site-packages\\pandas\\io\\parsers.py\u001b[0m in \u001b[0;36m__init__\u001b[1;34m(self, src, **kwds)\u001b[0m\n\u001b[0;32m   1865\u001b[0m \u001b[1;33m\u001b[0m\u001b[0m\n\u001b[0;32m   1866\u001b[0m         \u001b[1;31m# open handles\u001b[0m\u001b[1;33m\u001b[0m\u001b[1;33m\u001b[0m\u001b[1;33m\u001b[0m\u001b[0m\n\u001b[1;32m-> 1867\u001b[1;33m         \u001b[0mself\u001b[0m\u001b[1;33m.\u001b[0m\u001b[0m_open_handles\u001b[0m\u001b[1;33m(\u001b[0m\u001b[0msrc\u001b[0m\u001b[1;33m,\u001b[0m \u001b[0mkwds\u001b[0m\u001b[1;33m)\u001b[0m\u001b[1;33m\u001b[0m\u001b[1;33m\u001b[0m\u001b[0m\n\u001b[0m\u001b[0;32m   1868\u001b[0m         \u001b[1;32massert\u001b[0m \u001b[0mself\u001b[0m\u001b[1;33m.\u001b[0m\u001b[0mhandles\u001b[0m \u001b[1;32mis\u001b[0m \u001b[1;32mnot\u001b[0m \u001b[1;32mNone\u001b[0m\u001b[1;33m\u001b[0m\u001b[1;33m\u001b[0m\u001b[0m\n\u001b[0;32m   1869\u001b[0m         \u001b[1;32mfor\u001b[0m \u001b[0mkey\u001b[0m \u001b[1;32min\u001b[0m \u001b[1;33m(\u001b[0m\u001b[1;34m\"storage_options\"\u001b[0m\u001b[1;33m,\u001b[0m \u001b[1;34m\"encoding\"\u001b[0m\u001b[1;33m,\u001b[0m \u001b[1;34m\"memory_map\"\u001b[0m\u001b[1;33m,\u001b[0m \u001b[1;34m\"compression\"\u001b[0m\u001b[1;33m)\u001b[0m\u001b[1;33m:\u001b[0m\u001b[1;33m\u001b[0m\u001b[1;33m\u001b[0m\u001b[0m\n",
      "\u001b[1;32m~\\Anaconda3\\lib\\site-packages\\pandas\\io\\parsers.py\u001b[0m in \u001b[0;36m_open_handles\u001b[1;34m(self, src, kwds)\u001b[0m\n\u001b[0;32m   1360\u001b[0m         \u001b[0mLet\u001b[0m \u001b[0mthe\u001b[0m \u001b[0mreaders\u001b[0m \u001b[0mopen\u001b[0m \u001b[0mIOHanldes\u001b[0m \u001b[0mafter\u001b[0m \u001b[0mthey\u001b[0m \u001b[0mare\u001b[0m \u001b[0mdone\u001b[0m \u001b[1;32mwith\u001b[0m \u001b[0mtheir\u001b[0m \u001b[0mpotential\u001b[0m \u001b[0mraises\u001b[0m\u001b[1;33m.\u001b[0m\u001b[1;33m\u001b[0m\u001b[1;33m\u001b[0m\u001b[0m\n\u001b[0;32m   1361\u001b[0m         \"\"\"\n\u001b[1;32m-> 1362\u001b[1;33m         self.handles = get_handle(\n\u001b[0m\u001b[0;32m   1363\u001b[0m             \u001b[0msrc\u001b[0m\u001b[1;33m,\u001b[0m\u001b[1;33m\u001b[0m\u001b[1;33m\u001b[0m\u001b[0m\n\u001b[0;32m   1364\u001b[0m             \u001b[1;34m\"r\"\u001b[0m\u001b[1;33m,\u001b[0m\u001b[1;33m\u001b[0m\u001b[1;33m\u001b[0m\u001b[0m\n",
      "\u001b[1;32m~\\Anaconda3\\lib\\site-packages\\pandas\\io\\common.py\u001b[0m in \u001b[0;36mget_handle\u001b[1;34m(path_or_buf, mode, encoding, compression, memory_map, is_text, errors, storage_options)\u001b[0m\n\u001b[0;32m    640\u001b[0m                 \u001b[0merrors\u001b[0m \u001b[1;33m=\u001b[0m \u001b[1;34m\"replace\"\u001b[0m\u001b[1;33m\u001b[0m\u001b[1;33m\u001b[0m\u001b[0m\n\u001b[0;32m    641\u001b[0m             \u001b[1;31m# Encoding\u001b[0m\u001b[1;33m\u001b[0m\u001b[1;33m\u001b[0m\u001b[1;33m\u001b[0m\u001b[0m\n\u001b[1;32m--> 642\u001b[1;33m             handle = open(\n\u001b[0m\u001b[0;32m    643\u001b[0m                 \u001b[0mhandle\u001b[0m\u001b[1;33m,\u001b[0m\u001b[1;33m\u001b[0m\u001b[1;33m\u001b[0m\u001b[0m\n\u001b[0;32m    644\u001b[0m                 \u001b[0mioargs\u001b[0m\u001b[1;33m.\u001b[0m\u001b[0mmode\u001b[0m\u001b[1;33m,\u001b[0m\u001b[1;33m\u001b[0m\u001b[1;33m\u001b[0m\u001b[0m\n",
      "\u001b[1;31mFileNotFoundError\u001b[0m: [Errno 2] No such file or directory: 'homework.csv'"
     ]
    }
   ],
   "source": [
    "# -------- IO -------\n",
    "df = pd.read_csv('homework.csv')\n",
    "# df.to_csv(index = False)"
   ]
  },
  {
   "cell_type": "code",
   "execution_count": null,
   "id": "a559f290",
   "metadata": {},
   "outputs": [],
   "source": [
    "# ------- Something about nan -------\n",
    "df = pd.read_csv('homework.csv')\n",
    "\n",
    "# drop \n",
    "df1 = df.dropna(axis = 0, how = 'any')\n",
    "\n",
    "# 補零\n",
    "df2 = df.fillna(value = 0)\n",
    "\n",
    "# 用一個 dictionary 填補\n",
    "df3 = df.fillna(value = {f\"col{i}\" : i for i in range(df.shape[1])})\n",
    "\n",
    "# 判斷 df 裡是否有 nan\n",
    "True in np.asarray(df.isnull())"
   ]
  },
  {
   "cell_type": "code",
   "execution_count": null,
   "id": "5f473483",
   "metadata": {},
   "outputs": [],
   "source": []
  },
  {
   "cell_type": "code",
   "execution_count": null,
   "id": "2eceb121",
   "metadata": {},
   "outputs": [],
   "source": []
  }
 ],
 "metadata": {
  "kernelspec": {
   "display_name": "Python 3",
   "language": "python",
   "name": "python3"
  },
  "language_info": {
   "codemirror_mode": {
    "name": "ipython",
    "version": 3
   },
   "file_extension": ".py",
   "mimetype": "text/x-python",
   "name": "python",
   "nbconvert_exporter": "python",
   "pygments_lexer": "ipython3",
   "version": "3.8.10"
  },
  "metadata": {
   "interpreter": {
    "hash": "aee8b7b246df8f9039afb4144a1f6fd8d2ca17a180786b69acc140d282b71a49"
   }
  }
 },
 "nbformat": 4,
 "nbformat_minor": 5
}
