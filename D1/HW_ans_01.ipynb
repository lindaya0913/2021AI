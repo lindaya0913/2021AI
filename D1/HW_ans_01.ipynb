{
 "cells": [
  {
   "cell_type": "code",
   "execution_count": 6,
   "id": "under-navigator",
   "metadata": {},
   "outputs": [],
   "source": [
    "import numpy as np\n",
    "import pandas as pd\n",
    "import time"
   ]
  },
  {
   "cell_type": "markdown",
   "id": "07f80b3d",
   "metadata": {},
   "source": [
    "# Hw01\n",
    "## 作業目標：\n",
    "1. 熟悉 Numpy, Pandas 的操作，並比較兩者的處理速度\n",
    "## 作業重點：\n",
    "1. 使用 Numpy, Pandas 分別計算 “homework.csv” 中每個 feature 的平均值、中位數、最大值、最小值，並比較兩者運算時間\n",
    "2. 利用以下方式篩選離群值(option)：\n",
    "* feature 的平均值組成一個高維向量 Vec\n",
    "* 計算每個 sample 與 Vec 的距離\n",
    "* 計算距離的平均值、標準差，將距離平均值超過三個標準差的點當作離群值刪除\n",
    "* __請將刪除離群值後的 dataframe 取名為 df_after_delete__"
   ]
  },
  {
   "cell_type": "code",
   "execution_count": 18,
   "id": "e8d3933f",
   "metadata": {},
   "outputs": [
    {
     "name": "stdout",
     "output_type": "stream",
     "text": [
      "100000 個 samples, 80 個 features.\n"
     ]
    }
   ],
   "source": [
    "# 讀取 homework.csv\n",
    "origin = pd.read_csv('./data/homework.csv')\n",
    "df = origin.copy()\n",
    "\n",
    "n_samples, n_features =df.shape\n",
    "print(f'{n_samples} 個 samples, {n_features} 個 features.')"
   ]
  },
  {
   "cell_type": "markdown",
   "id": "450ef267",
   "metadata": {},
   "source": [
    "## 1. 使用 Numpy, Pandas 分別計算 “homework.csv” 中每個 feature 的平均值、中位數、最大值、最小值，並比較兩者運算時間"
   ]
  },
  {
   "cell_type": "code",
   "execution_count": 17,
   "id": "e3b078ab",
   "metadata": {},
   "outputs": [
    {
     "name": "stdout",
     "output_type": "stream",
     "text": [
      "Numpy has done in 0.1114 sec.\n",
      "Pandas has done in 0.2378 sec.\n"
     ]
    }
   ],
   "source": [
    "# -------------- Numpy --------------\n",
    "arr = np.array(df, dtype = 'float')\n",
    "\n",
    "# 開始計算\n",
    "start = time.time()\n",
    "mean = np.mean(arr, axis = 0)\n",
    "median = np.median(arr, axis = 0)\n",
    "Max = np.max(arr, axis = 0)\n",
    "Min = np.min(arr, axis = 0)\n",
    "end = time.time()\n",
    "print(f'Numpy has done in {(end - start):.4f} sec.')\n",
    "\n",
    "# -------------- Pandas --------------\n",
    "start = time.time()\n",
    "mean = df.std()\n",
    "median = df.median()\n",
    "Max = df.max()\n",
    "Min = df.min()\n",
    "end = time.time()\n",
    "print(f'Pandas has done in {(end - start):.4f} sec.')"
   ]
  },
  {
   "cell_type": "markdown",
   "id": "60caf39d",
   "metadata": {},
   "source": [
    "## 2. 利用以下方式篩選離群值(option)：\n",
    "* feature 的平均值組成一個高維向量 Vec\n",
    "* 計算每個 sample 與 Vec 的距離\n",
    "* 計算距離的平均值、標準差，將距離平均值超過三個標準差的點當作離群值刪除\n",
    "* __請將刪除離群值後的 dataframe 取名為 df_after_delete__"
   ]
  },
  {
   "cell_type": "code",
   "execution_count": 1,
   "id": "ff61826d",
   "metadata": {},
   "outputs": [
    {
     "ename": "NameError",
     "evalue": "name 'np' is not defined",
     "output_type": "error",
     "traceback": [
      "\u001b[1;31m---------------------------------------------------------------------------\u001b[0m",
      "\u001b[1;31mNameError\u001b[0m                                 Traceback (most recent call last)",
      "\u001b[1;32m<ipython-input-1-4551a08533b5>\u001b[0m in \u001b[0;36m<module>\u001b[1;34m\u001b[0m\n\u001b[0;32m      1\u001b[0m \u001b[1;31m# 計算各個 sample 與 Vec 之距離\u001b[0m\u001b[1;33m\u001b[0m\u001b[1;33m\u001b[0m\u001b[1;33m\u001b[0m\u001b[0m\n\u001b[1;32m----> 2\u001b[1;33m \u001b[0mmeans\u001b[0m \u001b[1;33m=\u001b[0m \u001b[0mnp\u001b[0m\u001b[1;33m.\u001b[0m\u001b[0mtile\u001b[0m\u001b[1;33m(\u001b[0m\u001b[0mmean\u001b[0m\u001b[1;33m,\u001b[0m \u001b[0mn_samples\u001b[0m\u001b[1;33m)\u001b[0m\u001b[1;33m.\u001b[0m\u001b[0mreshape\u001b[0m\u001b[1;33m(\u001b[0m\u001b[1;33m(\u001b[0m\u001b[0mn_samples\u001b[0m\u001b[1;33m,\u001b[0m \u001b[0mn_features\u001b[0m\u001b[1;33m)\u001b[0m\u001b[1;33m)\u001b[0m\u001b[1;33m\u001b[0m\u001b[1;33m\u001b[0m\u001b[0m\n\u001b[0m\u001b[0;32m      3\u001b[0m \u001b[0mprint\u001b[0m\u001b[1;33m(\u001b[0m\u001b[0mmeans\u001b[0m\u001b[1;33m)\u001b[0m\u001b[1;33m\u001b[0m\u001b[1;33m\u001b[0m\u001b[0m\n\u001b[0;32m      4\u001b[0m \u001b[0mdistance\u001b[0m \u001b[1;33m=\u001b[0m \u001b[0mnp\u001b[0m\u001b[1;33m.\u001b[0m\u001b[0msum\u001b[0m\u001b[1;33m(\u001b[0m\u001b[1;33m(\u001b[0m\u001b[0marr\u001b[0m \u001b[1;33m-\u001b[0m \u001b[0mmeans\u001b[0m\u001b[1;33m)\u001b[0m \u001b[1;33m**\u001b[0m \u001b[1;36m2\u001b[0m\u001b[1;33m,\u001b[0m \u001b[0maxis\u001b[0m \u001b[1;33m=\u001b[0m \u001b[1;36m1\u001b[0m\u001b[1;33m)\u001b[0m\u001b[1;33m\u001b[0m\u001b[1;33m\u001b[0m\u001b[0m\n\u001b[0;32m      5\u001b[0m \u001b[0mdistance\u001b[0m \u001b[1;33m=\u001b[0m \u001b[0mnp\u001b[0m\u001b[1;33m.\u001b[0m\u001b[0msqrt\u001b[0m\u001b[1;33m(\u001b[0m\u001b[0mdistance\u001b[0m\u001b[1;33m)\u001b[0m\u001b[1;33m\u001b[0m\u001b[1;33m\u001b[0m\u001b[0m\n",
      "\u001b[1;31mNameError\u001b[0m: name 'np' is not defined"
     ]
    }
   ],
   "source": [
    "# 計算各個 sample 與 Vec 之距離\n",
    "means = np.tile(mean, n_samples).reshape((n_samples, n_features))\n",
    "distance = np.sum((arr - means) ** 2, axis = 1)\n",
    "distance = np.sqrt(distance)\n",
    "\n",
    "# 計算 distance 的 mean, std, 並篩選離群值\n",
    "distance_mean = np.mean(distance)\n",
    "distance_std = np.std(distance)\n",
    "outlier_idx = np.where(np.abs(distance - distance_mean) > distance_std * 3)[0]\n",
    "\n",
    "# 刪除離群值\n",
    "df_after_delete = df.drop(index = outlier_idx).reset_index(drop = True)"
   ]
  },
  {
   "cell_type": "code",
   "execution_count": null,
   "id": "19325622",
   "metadata": {},
   "outputs": [],
   "source": []
  }
 ],
 "metadata": {
  "kernelspec": {
   "display_name": "Python 3",
   "language": "python",
   "name": "python3"
  },
  "language_info": {
   "codemirror_mode": {
    "name": "ipython",
    "version": 3
   },
   "file_extension": ".py",
   "mimetype": "text/x-python",
   "name": "python",
   "nbconvert_exporter": "python",
   "pygments_lexer": "ipython3",
   "version": "3.8.10"
  },
  "metadata": {
   "interpreter": {
    "hash": "aee8b7b246df8f9039afb4144a1f6fd8d2ca17a180786b69acc140d282b71a49"
   }
  }
 },
 "nbformat": 4,
 "nbformat_minor": 5
}
