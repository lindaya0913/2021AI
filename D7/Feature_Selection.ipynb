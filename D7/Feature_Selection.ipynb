{
 "cells": [
  {
   "cell_type": "code",
   "execution_count": 1,
   "metadata": {},
   "outputs": [],
   "source": [
    "import pandas as pd\n",
    "import numpy as np\n",
    "\n",
    "from sklearn.ensemble import RandomForestRegressor\n",
    "from sklearn.feature_selection import SelectKBest, f_regression\n",
    "\n",
    "from scipy.stats import spearmanr, pearsonr\n",
    "\n",
    "from project_module import regression_report\n",
    "from project_module.feature_selection import SelectKBestByCoefficient"
   ]
  },
  {
   "cell_type": "code",
   "execution_count": 2,
   "metadata": {},
   "outputs": [
    {
     "name": "stdout",
     "output_type": "stream",
     "text": [
      "(1095, 89) (1095,) (365, 89) (365,)\n"
     ]
    }
   ],
   "source": [
    "# load data\n",
    "x_train = np.load('x_train.npy')\n",
    "y_train = np.load('y_train.npy')\n",
    "x_test = np.load('x_test.npy')\n",
    "y_test = np.load('y_test.npy')\n",
    "\n",
    "print(x_train.shape, y_train.shape, x_test.shape, y_test.shape)"
   ]
  },
  {
   "cell_type": "code",
   "execution_count": 3,
   "metadata": {},
   "outputs": [],
   "source": [
    "def get_RF(params: dict) -> RandomForestRegressor:\n",
    "    RF = RandomForestRegressor(**params)\n",
    "    return RF\n",
    "\n",
    "best_params = {\n",
    "    'n_estimators': 68, 'min_samples_split': 2, \n",
    "    'min_impurity_decrease': 0.8304579924331754, \n",
    "    'max_depth': 16, 'criterion': 'mae', \n",
    "    'ccp_alpha': 2.3855551842621, 'n_jobs' : 4, \n",
    "    'warm_start': False\n",
    "}"
   ]
  },
  {
   "cell_type": "code",
   "execution_count": 4,
   "metadata": {},
   "outputs": [
    {
     "name": "stdout",
     "output_type": "stream",
     "text": [
      "mse = 1019625970.1458\n",
      "mae = 17843.8148\n",
      "rmse = 31931.5826\n",
      "mape = 0.1015\n"
     ]
    }
   ],
   "source": [
    "RF = get_RF(best_params)\n",
    "RF.fit(x_train, y_train)\n",
    "\n",
    "pred = RF.predict(x_test)\n",
    "regression_report(y_test, pred)"
   ]
  },
  {
   "cell_type": "markdown",
   "metadata": {},
   "source": [
    "## [Filter method](https://scikit-learn.org/stable/modules/generated/sklearn.feature_selection.SelectKBest.html#sklearn.feature_selection.SelectKBest)\n",
    "1. [Pearson coefficient](https://docs.scipy.org/doc/scipy/reference/generated/scipy.stats.pearsonr.html)\n",
    "2. [Spearman coefficient](https://docs.scipy.org/doc/scipy/reference/generated/scipy.stats.spearmanr.html)"
   ]
  },
  {
   "cell_type": "code",
   "execution_count": 5,
   "metadata": {},
   "outputs": [
    {
     "name": "stdout",
     "output_type": "stream",
     "text": [
      "mse = 995214990.7529\n",
      "mae = 18384.7244\n",
      "rmse = 31547.0282\n",
      "mape = 0.1038\n"
     ]
    }
   ],
   "source": [
    "# pearson coefficient\n",
    "pearson_selector = SelectKBestByCoefficient(k = 30, method = 'pearson').fit(x_train, y_train)\n",
    "x_train_new = pearson_selector.transform(x_train)\n",
    "x_test_new = pearson_selector.transform(x_test)\n",
    "\n",
    "RF = get_RF(best_params)\n",
    "RF.fit(x_train_new, y_train)\n",
    "\n",
    "pred = RF.predict(x_test_new)\n",
    "\n",
    "regression_report(y_test, pred)"
   ]
  },
  {
   "cell_type": "code",
   "execution_count": 6,
   "metadata": {},
   "outputs": [
    {
     "name": "stdout",
     "output_type": "stream",
     "text": [
      "mse = 1055096706.8959\n",
      "mae = 18188.4794\n",
      "rmse = 32482.2522\n",
      "mape = 0.1037\n"
     ]
    }
   ],
   "source": [
    "# Spearman coefficient\n",
    "spearman_selector = SelectKBestByCoefficient(k = 30, method = 'spearman').fit(x_train, y_train)\n",
    "x_train_new = spearman_selector.transform(x_train)\n",
    "x_test_new = spearman_selector.transform(x_test)\n",
    "\n",
    "RF = get_RF(best_params)\n",
    "RF.fit(x_train_new, y_train)\n",
    "\n",
    "pred = RF.predict(x_test_new)\n",
    "\n",
    "regression_report(y_test, pred)"
   ]
  },
  {
   "cell_type": "code",
   "execution_count": 7,
   "metadata": {},
   "outputs": [
    {
     "name": "stdout",
     "output_type": "stream",
     "text": [
      "mse = 1286149684.8210\n",
      "mae = 18814.8145\n",
      "rmse = 35862.9291\n",
      "mape = 0.1036\n"
     ]
    }
   ],
   "source": [
    "# Anova for regression\n",
    "anova_selector = SelectKBest(score_func = f_regression, k = 30).fit(x_train, y_train)\n",
    "x_train_new = anova_selector.transform(x_train)\n",
    "x_test_new = anova_selector.transform(x_test)\n",
    "\n",
    "RF = get_RF(best_params)\n",
    "RF.fit(x_train_new, y_train)\n",
    "\n",
    "pred = RF.predict(x_test_new)\n",
    "\n",
    "regression_report(y_test, pred)"
   ]
  },
  {
   "cell_type": "code",
   "execution_count": null,
   "metadata": {},
   "outputs": [],
   "source": []
  }
 ],
 "metadata": {
  "interpreter": {
   "hash": "aee8b7b246df8f9039afb4144a1f6fd8d2ca17a180786b69acc140d282b71a49"
  },
  "kernelspec": {
   "display_name": "Python 3",
   "language": "python",
   "name": "python3"
  },
  "language_info": {
   "codemirror_mode": {
    "name": "ipython",
    "version": 3
   },
   "file_extension": ".py",
   "mimetype": "text/x-python",
   "name": "python",
   "nbconvert_exporter": "python",
   "pygments_lexer": "ipython3",
   "version": "3.8.10"
  }
 },
 "nbformat": 4,
 "nbformat_minor": 2
}
